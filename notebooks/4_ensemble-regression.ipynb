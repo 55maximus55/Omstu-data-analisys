{
 "cells": [
  {
   "cell_type": "markdown",
   "metadata": {
    "collapsed": true,
    "pycharm": {
     "name": "#%% md\n"
    }
   },
   "source": [
    "Импорт библиотек и загрузка датасета"
   ]
  },
  {
   "cell_type": "code",
   "execution_count": 15,
   "outputs": [],
   "source": [
    "import pandas as pd\n",
    "import numpy as np\n",
    "import warnings\n",
    "from sklearn.metrics import confusion_matrix, classification_report, mean_squared_error, mean_absolute_error\n",
    "from sklearn.model_selection import train_test_split, GridSearchCV\n",
    "from sklearn.preprocessing import StandardScaler\n",
    "from sklearn.tree import DecisionTreeRegressor\n",
    "from sklearn.ensemble import BaggingRegressor, GradientBoostingRegressor\n",
    "\n",
    "warnings.filterwarnings(\"ignore\")"
   ],
   "metadata": {
    "collapsed": false,
    "pycharm": {
     "name": "#%%\n"
    }
   }
  },
  {
   "cell_type": "code",
   "execution_count": 2,
   "outputs": [],
   "source": [
    "data = pd.read_csv(r'../data/automobile_preprocessed.csv')"
   ],
   "metadata": {
    "collapsed": false,
    "pycharm": {
     "name": "#%%\n"
    }
   }
  },
  {
   "cell_type": "code",
   "execution_count": 3,
   "outputs": [
    {
     "data": {
      "text/plain": "     symboling  normalized-losses  num-of-doors  wheel-base  length  width  \\\n0            2              164.0           4.0        99.8   176.6   66.2   \n1            2              164.0           4.0        99.4   176.6   66.4   \n2            1              158.0           4.0       105.8   192.7   71.4   \n3            1              158.0           4.0       105.8   192.7   71.4   \n4            2              192.0           2.0       101.2   176.8   64.8   \n..         ...                ...           ...         ...     ...    ...   \n154         -1               95.0           4.0       109.1   188.8   68.9   \n155         -1               95.0           4.0       109.1   188.8   68.8   \n156         -1               95.0           4.0       109.1   188.8   68.9   \n157         -1               95.0           4.0       109.1   188.8   68.9   \n158         -1               95.0           4.0       109.1   188.8   68.9   \n\n     height  curb-weight  num-of-cylinders  engine-size  ...  engine-type_l  \\\n0      54.3         2337                 4          109  ...              0   \n1      54.3         2824                 5          136  ...              0   \n2      55.7         2844                 5          136  ...              0   \n3      55.9         3086                 5          131  ...              0   \n4      54.3         2395                 4          108  ...              0   \n..      ...          ...               ...          ...  ...            ...   \n154    55.5         2952                 4          141  ...              0   \n155    55.5         3049                 4          141  ...              0   \n156    55.5         3012                 6          173  ...              0   \n157    55.5         3217                 6          145  ...              0   \n158    55.5         3062                 4          141  ...              0   \n\n     engine-type_ohc  engine-type_ohcf  engine-type_ohcv  fuel-system_1bbl  \\\n0                  1                 0                 0                 0   \n1                  1                 0                 0                 0   \n2                  1                 0                 0                 0   \n3                  1                 0                 0                 0   \n4                  1                 0                 0                 0   \n..               ...               ...               ...               ...   \n154                1                 0                 0                 0   \n155                1                 0                 0                 0   \n156                0                 0                 1                 0   \n157                1                 0                 0                 0   \n158                1                 0                 0                 0   \n\n     fuel-system_2bbl  fuel-system_idi  fuel-system_mfi  fuel-system_mpfi  \\\n0                   0                0                0                 1   \n1                   0                0                0                 1   \n2                   0                0                0                 1   \n3                   0                0                0                 1   \n4                   0                0                0                 1   \n..                ...              ...              ...               ...   \n154                 0                0                0                 1   \n155                 0                0                0                 1   \n156                 0                0                0                 1   \n157                 0                1                0                 0   \n158                 0                0                0                 1   \n\n     fuel-system_spdi  \n0                   0  \n1                   0  \n2                   0  \n3                   0  \n4                   0  \n..                ...  \n154                 0  \n155                 0  \n156                 0  \n157                 0  \n158                 0  \n\n[159 rows x 60 columns]",
      "text/html": "<div>\n<style scoped>\n    .dataframe tbody tr th:only-of-type {\n        vertical-align: middle;\n    }\n\n    .dataframe tbody tr th {\n        vertical-align: top;\n    }\n\n    .dataframe thead th {\n        text-align: right;\n    }\n</style>\n<table border=\"1\" class=\"dataframe\">\n  <thead>\n    <tr style=\"text-align: right;\">\n      <th></th>\n      <th>symboling</th>\n      <th>normalized-losses</th>\n      <th>num-of-doors</th>\n      <th>wheel-base</th>\n      <th>length</th>\n      <th>width</th>\n      <th>height</th>\n      <th>curb-weight</th>\n      <th>num-of-cylinders</th>\n      <th>engine-size</th>\n      <th>...</th>\n      <th>engine-type_l</th>\n      <th>engine-type_ohc</th>\n      <th>engine-type_ohcf</th>\n      <th>engine-type_ohcv</th>\n      <th>fuel-system_1bbl</th>\n      <th>fuel-system_2bbl</th>\n      <th>fuel-system_idi</th>\n      <th>fuel-system_mfi</th>\n      <th>fuel-system_mpfi</th>\n      <th>fuel-system_spdi</th>\n    </tr>\n  </thead>\n  <tbody>\n    <tr>\n      <th>0</th>\n      <td>2</td>\n      <td>164.0</td>\n      <td>4.0</td>\n      <td>99.8</td>\n      <td>176.6</td>\n      <td>66.2</td>\n      <td>54.3</td>\n      <td>2337</td>\n      <td>4</td>\n      <td>109</td>\n      <td>...</td>\n      <td>0</td>\n      <td>1</td>\n      <td>0</td>\n      <td>0</td>\n      <td>0</td>\n      <td>0</td>\n      <td>0</td>\n      <td>0</td>\n      <td>1</td>\n      <td>0</td>\n    </tr>\n    <tr>\n      <th>1</th>\n      <td>2</td>\n      <td>164.0</td>\n      <td>4.0</td>\n      <td>99.4</td>\n      <td>176.6</td>\n      <td>66.4</td>\n      <td>54.3</td>\n      <td>2824</td>\n      <td>5</td>\n      <td>136</td>\n      <td>...</td>\n      <td>0</td>\n      <td>1</td>\n      <td>0</td>\n      <td>0</td>\n      <td>0</td>\n      <td>0</td>\n      <td>0</td>\n      <td>0</td>\n      <td>1</td>\n      <td>0</td>\n    </tr>\n    <tr>\n      <th>2</th>\n      <td>1</td>\n      <td>158.0</td>\n      <td>4.0</td>\n      <td>105.8</td>\n      <td>192.7</td>\n      <td>71.4</td>\n      <td>55.7</td>\n      <td>2844</td>\n      <td>5</td>\n      <td>136</td>\n      <td>...</td>\n      <td>0</td>\n      <td>1</td>\n      <td>0</td>\n      <td>0</td>\n      <td>0</td>\n      <td>0</td>\n      <td>0</td>\n      <td>0</td>\n      <td>1</td>\n      <td>0</td>\n    </tr>\n    <tr>\n      <th>3</th>\n      <td>1</td>\n      <td>158.0</td>\n      <td>4.0</td>\n      <td>105.8</td>\n      <td>192.7</td>\n      <td>71.4</td>\n      <td>55.9</td>\n      <td>3086</td>\n      <td>5</td>\n      <td>131</td>\n      <td>...</td>\n      <td>0</td>\n      <td>1</td>\n      <td>0</td>\n      <td>0</td>\n      <td>0</td>\n      <td>0</td>\n      <td>0</td>\n      <td>0</td>\n      <td>1</td>\n      <td>0</td>\n    </tr>\n    <tr>\n      <th>4</th>\n      <td>2</td>\n      <td>192.0</td>\n      <td>2.0</td>\n      <td>101.2</td>\n      <td>176.8</td>\n      <td>64.8</td>\n      <td>54.3</td>\n      <td>2395</td>\n      <td>4</td>\n      <td>108</td>\n      <td>...</td>\n      <td>0</td>\n      <td>1</td>\n      <td>0</td>\n      <td>0</td>\n      <td>0</td>\n      <td>0</td>\n      <td>0</td>\n      <td>0</td>\n      <td>1</td>\n      <td>0</td>\n    </tr>\n    <tr>\n      <th>...</th>\n      <td>...</td>\n      <td>...</td>\n      <td>...</td>\n      <td>...</td>\n      <td>...</td>\n      <td>...</td>\n      <td>...</td>\n      <td>...</td>\n      <td>...</td>\n      <td>...</td>\n      <td>...</td>\n      <td>...</td>\n      <td>...</td>\n      <td>...</td>\n      <td>...</td>\n      <td>...</td>\n      <td>...</td>\n      <td>...</td>\n      <td>...</td>\n      <td>...</td>\n      <td>...</td>\n    </tr>\n    <tr>\n      <th>154</th>\n      <td>-1</td>\n      <td>95.0</td>\n      <td>4.0</td>\n      <td>109.1</td>\n      <td>188.8</td>\n      <td>68.9</td>\n      <td>55.5</td>\n      <td>2952</td>\n      <td>4</td>\n      <td>141</td>\n      <td>...</td>\n      <td>0</td>\n      <td>1</td>\n      <td>0</td>\n      <td>0</td>\n      <td>0</td>\n      <td>0</td>\n      <td>0</td>\n      <td>0</td>\n      <td>1</td>\n      <td>0</td>\n    </tr>\n    <tr>\n      <th>155</th>\n      <td>-1</td>\n      <td>95.0</td>\n      <td>4.0</td>\n      <td>109.1</td>\n      <td>188.8</td>\n      <td>68.8</td>\n      <td>55.5</td>\n      <td>3049</td>\n      <td>4</td>\n      <td>141</td>\n      <td>...</td>\n      <td>0</td>\n      <td>1</td>\n      <td>0</td>\n      <td>0</td>\n      <td>0</td>\n      <td>0</td>\n      <td>0</td>\n      <td>0</td>\n      <td>1</td>\n      <td>0</td>\n    </tr>\n    <tr>\n      <th>156</th>\n      <td>-1</td>\n      <td>95.0</td>\n      <td>4.0</td>\n      <td>109.1</td>\n      <td>188.8</td>\n      <td>68.9</td>\n      <td>55.5</td>\n      <td>3012</td>\n      <td>6</td>\n      <td>173</td>\n      <td>...</td>\n      <td>0</td>\n      <td>0</td>\n      <td>0</td>\n      <td>1</td>\n      <td>0</td>\n      <td>0</td>\n      <td>0</td>\n      <td>0</td>\n      <td>1</td>\n      <td>0</td>\n    </tr>\n    <tr>\n      <th>157</th>\n      <td>-1</td>\n      <td>95.0</td>\n      <td>4.0</td>\n      <td>109.1</td>\n      <td>188.8</td>\n      <td>68.9</td>\n      <td>55.5</td>\n      <td>3217</td>\n      <td>6</td>\n      <td>145</td>\n      <td>...</td>\n      <td>0</td>\n      <td>1</td>\n      <td>0</td>\n      <td>0</td>\n      <td>0</td>\n      <td>0</td>\n      <td>1</td>\n      <td>0</td>\n      <td>0</td>\n      <td>0</td>\n    </tr>\n    <tr>\n      <th>158</th>\n      <td>-1</td>\n      <td>95.0</td>\n      <td>4.0</td>\n      <td>109.1</td>\n      <td>188.8</td>\n      <td>68.9</td>\n      <td>55.5</td>\n      <td>3062</td>\n      <td>4</td>\n      <td>141</td>\n      <td>...</td>\n      <td>0</td>\n      <td>1</td>\n      <td>0</td>\n      <td>0</td>\n      <td>0</td>\n      <td>0</td>\n      <td>0</td>\n      <td>0</td>\n      <td>1</td>\n      <td>0</td>\n    </tr>\n  </tbody>\n</table>\n<p>159 rows × 60 columns</p>\n</div>"
     },
     "execution_count": 3,
     "metadata": {},
     "output_type": "execute_result"
    }
   ],
   "source": [
    "data"
   ],
   "metadata": {
    "collapsed": false,
    "pycharm": {
     "name": "#%%\n"
    }
   }
  },
  {
   "cell_type": "code",
   "execution_count": 4,
   "outputs": [
    {
     "data": {
      "text/plain": "     symboling  num-of-doors  wheel-base  length  width  height  curb-weight  \\\n0            2           4.0        99.8   176.6   66.2    54.3         2337   \n1            2           4.0        99.4   176.6   66.4    54.3         2824   \n2            1           4.0       105.8   192.7   71.4    55.7         2844   \n3            1           4.0       105.8   192.7   71.4    55.9         3086   \n4            2           2.0       101.2   176.8   64.8    54.3         2395   \n..         ...           ...         ...     ...    ...     ...          ...   \n154         -1           4.0       109.1   188.8   68.9    55.5         2952   \n155         -1           4.0       109.1   188.8   68.8    55.5         3049   \n156         -1           4.0       109.1   188.8   68.9    55.5         3012   \n157         -1           4.0       109.1   188.8   68.9    55.5         3217   \n158         -1           4.0       109.1   188.8   68.9    55.5         3062   \n\n     num-of-cylinders  engine-size  bore  ...  engine-type_l  engine-type_ohc  \\\n0                   4          109  3.19  ...              0                1   \n1                   5          136  3.19  ...              0                1   \n2                   5          136  3.19  ...              0                1   \n3                   5          131  3.13  ...              0                1   \n4                   4          108  3.50  ...              0                1   \n..                ...          ...   ...  ...            ...              ...   \n154                 4          141  3.78  ...              0                1   \n155                 4          141  3.78  ...              0                1   \n156                 6          173  3.58  ...              0                0   \n157                 6          145  3.01  ...              0                1   \n158                 4          141  3.78  ...              0                1   \n\n     engine-type_ohcf  engine-type_ohcv  fuel-system_1bbl  fuel-system_2bbl  \\\n0                   0                 0                 0                 0   \n1                   0                 0                 0                 0   \n2                   0                 0                 0                 0   \n3                   0                 0                 0                 0   \n4                   0                 0                 0                 0   \n..                ...               ...               ...               ...   \n154                 0                 0                 0                 0   \n155                 0                 0                 0                 0   \n156                 0                 1                 0                 0   \n157                 0                 0                 0                 0   \n158                 0                 0                 0                 0   \n\n     fuel-system_idi  fuel-system_mfi  fuel-system_mpfi  fuel-system_spdi  \n0                  0                0                 1                 0  \n1                  0                0                 1                 0  \n2                  0                0                 1                 0  \n3                  0                0                 1                 0  \n4                  0                0                 1                 0  \n..               ...              ...               ...               ...  \n154                0                0                 1                 0  \n155                0                0                 1                 0  \n156                0                0                 1                 0  \n157                1                0                 0                 0  \n158                0                0                 1                 0  \n\n[159 rows x 59 columns]",
      "text/html": "<div>\n<style scoped>\n    .dataframe tbody tr th:only-of-type {\n        vertical-align: middle;\n    }\n\n    .dataframe tbody tr th {\n        vertical-align: top;\n    }\n\n    .dataframe thead th {\n        text-align: right;\n    }\n</style>\n<table border=\"1\" class=\"dataframe\">\n  <thead>\n    <tr style=\"text-align: right;\">\n      <th></th>\n      <th>symboling</th>\n      <th>num-of-doors</th>\n      <th>wheel-base</th>\n      <th>length</th>\n      <th>width</th>\n      <th>height</th>\n      <th>curb-weight</th>\n      <th>num-of-cylinders</th>\n      <th>engine-size</th>\n      <th>bore</th>\n      <th>...</th>\n      <th>engine-type_l</th>\n      <th>engine-type_ohc</th>\n      <th>engine-type_ohcf</th>\n      <th>engine-type_ohcv</th>\n      <th>fuel-system_1bbl</th>\n      <th>fuel-system_2bbl</th>\n      <th>fuel-system_idi</th>\n      <th>fuel-system_mfi</th>\n      <th>fuel-system_mpfi</th>\n      <th>fuel-system_spdi</th>\n    </tr>\n  </thead>\n  <tbody>\n    <tr>\n      <th>0</th>\n      <td>2</td>\n      <td>4.0</td>\n      <td>99.8</td>\n      <td>176.6</td>\n      <td>66.2</td>\n      <td>54.3</td>\n      <td>2337</td>\n      <td>4</td>\n      <td>109</td>\n      <td>3.19</td>\n      <td>...</td>\n      <td>0</td>\n      <td>1</td>\n      <td>0</td>\n      <td>0</td>\n      <td>0</td>\n      <td>0</td>\n      <td>0</td>\n      <td>0</td>\n      <td>1</td>\n      <td>0</td>\n    </tr>\n    <tr>\n      <th>1</th>\n      <td>2</td>\n      <td>4.0</td>\n      <td>99.4</td>\n      <td>176.6</td>\n      <td>66.4</td>\n      <td>54.3</td>\n      <td>2824</td>\n      <td>5</td>\n      <td>136</td>\n      <td>3.19</td>\n      <td>...</td>\n      <td>0</td>\n      <td>1</td>\n      <td>0</td>\n      <td>0</td>\n      <td>0</td>\n      <td>0</td>\n      <td>0</td>\n      <td>0</td>\n      <td>1</td>\n      <td>0</td>\n    </tr>\n    <tr>\n      <th>2</th>\n      <td>1</td>\n      <td>4.0</td>\n      <td>105.8</td>\n      <td>192.7</td>\n      <td>71.4</td>\n      <td>55.7</td>\n      <td>2844</td>\n      <td>5</td>\n      <td>136</td>\n      <td>3.19</td>\n      <td>...</td>\n      <td>0</td>\n      <td>1</td>\n      <td>0</td>\n      <td>0</td>\n      <td>0</td>\n      <td>0</td>\n      <td>0</td>\n      <td>0</td>\n      <td>1</td>\n      <td>0</td>\n    </tr>\n    <tr>\n      <th>3</th>\n      <td>1</td>\n      <td>4.0</td>\n      <td>105.8</td>\n      <td>192.7</td>\n      <td>71.4</td>\n      <td>55.9</td>\n      <td>3086</td>\n      <td>5</td>\n      <td>131</td>\n      <td>3.13</td>\n      <td>...</td>\n      <td>0</td>\n      <td>1</td>\n      <td>0</td>\n      <td>0</td>\n      <td>0</td>\n      <td>0</td>\n      <td>0</td>\n      <td>0</td>\n      <td>1</td>\n      <td>0</td>\n    </tr>\n    <tr>\n      <th>4</th>\n      <td>2</td>\n      <td>2.0</td>\n      <td>101.2</td>\n      <td>176.8</td>\n      <td>64.8</td>\n      <td>54.3</td>\n      <td>2395</td>\n      <td>4</td>\n      <td>108</td>\n      <td>3.50</td>\n      <td>...</td>\n      <td>0</td>\n      <td>1</td>\n      <td>0</td>\n      <td>0</td>\n      <td>0</td>\n      <td>0</td>\n      <td>0</td>\n      <td>0</td>\n      <td>1</td>\n      <td>0</td>\n    </tr>\n    <tr>\n      <th>...</th>\n      <td>...</td>\n      <td>...</td>\n      <td>...</td>\n      <td>...</td>\n      <td>...</td>\n      <td>...</td>\n      <td>...</td>\n      <td>...</td>\n      <td>...</td>\n      <td>...</td>\n      <td>...</td>\n      <td>...</td>\n      <td>...</td>\n      <td>...</td>\n      <td>...</td>\n      <td>...</td>\n      <td>...</td>\n      <td>...</td>\n      <td>...</td>\n      <td>...</td>\n      <td>...</td>\n    </tr>\n    <tr>\n      <th>154</th>\n      <td>-1</td>\n      <td>4.0</td>\n      <td>109.1</td>\n      <td>188.8</td>\n      <td>68.9</td>\n      <td>55.5</td>\n      <td>2952</td>\n      <td>4</td>\n      <td>141</td>\n      <td>3.78</td>\n      <td>...</td>\n      <td>0</td>\n      <td>1</td>\n      <td>0</td>\n      <td>0</td>\n      <td>0</td>\n      <td>0</td>\n      <td>0</td>\n      <td>0</td>\n      <td>1</td>\n      <td>0</td>\n    </tr>\n    <tr>\n      <th>155</th>\n      <td>-1</td>\n      <td>4.0</td>\n      <td>109.1</td>\n      <td>188.8</td>\n      <td>68.8</td>\n      <td>55.5</td>\n      <td>3049</td>\n      <td>4</td>\n      <td>141</td>\n      <td>3.78</td>\n      <td>...</td>\n      <td>0</td>\n      <td>1</td>\n      <td>0</td>\n      <td>0</td>\n      <td>0</td>\n      <td>0</td>\n      <td>0</td>\n      <td>0</td>\n      <td>1</td>\n      <td>0</td>\n    </tr>\n    <tr>\n      <th>156</th>\n      <td>-1</td>\n      <td>4.0</td>\n      <td>109.1</td>\n      <td>188.8</td>\n      <td>68.9</td>\n      <td>55.5</td>\n      <td>3012</td>\n      <td>6</td>\n      <td>173</td>\n      <td>3.58</td>\n      <td>...</td>\n      <td>0</td>\n      <td>0</td>\n      <td>0</td>\n      <td>1</td>\n      <td>0</td>\n      <td>0</td>\n      <td>0</td>\n      <td>0</td>\n      <td>1</td>\n      <td>0</td>\n    </tr>\n    <tr>\n      <th>157</th>\n      <td>-1</td>\n      <td>4.0</td>\n      <td>109.1</td>\n      <td>188.8</td>\n      <td>68.9</td>\n      <td>55.5</td>\n      <td>3217</td>\n      <td>6</td>\n      <td>145</td>\n      <td>3.01</td>\n      <td>...</td>\n      <td>0</td>\n      <td>1</td>\n      <td>0</td>\n      <td>0</td>\n      <td>0</td>\n      <td>0</td>\n      <td>1</td>\n      <td>0</td>\n      <td>0</td>\n      <td>0</td>\n    </tr>\n    <tr>\n      <th>158</th>\n      <td>-1</td>\n      <td>4.0</td>\n      <td>109.1</td>\n      <td>188.8</td>\n      <td>68.9</td>\n      <td>55.5</td>\n      <td>3062</td>\n      <td>4</td>\n      <td>141</td>\n      <td>3.78</td>\n      <td>...</td>\n      <td>0</td>\n      <td>1</td>\n      <td>0</td>\n      <td>0</td>\n      <td>0</td>\n      <td>0</td>\n      <td>0</td>\n      <td>0</td>\n      <td>1</td>\n      <td>0</td>\n    </tr>\n  </tbody>\n</table>\n<p>159 rows × 59 columns</p>\n</div>"
     },
     "execution_count": 4,
     "metadata": {},
     "output_type": "execute_result"
    }
   ],
   "source": [
    "cols = data.columns[:1].append(data.columns[2:60])\n",
    "X = data[cols]\n",
    "X"
   ],
   "metadata": {
    "collapsed": false,
    "pycharm": {
     "name": "#%%\n"
    }
   }
  },
  {
   "cell_type": "code",
   "execution_count": 5,
   "outputs": [
    {
     "data": {
      "text/plain": "0      164.0\n1      164.0\n2      158.0\n3      158.0\n4      192.0\n       ...  \n154     95.0\n155     95.0\n156     95.0\n157     95.0\n158     95.0\nName: normalized-losses, Length: 159, dtype: float64"
     },
     "execution_count": 5,
     "metadata": {},
     "output_type": "execute_result"
    }
   ],
   "source": [
    "y = data['normalized-losses']\n",
    "y"
   ],
   "metadata": {
    "collapsed": false,
    "pycharm": {
     "name": "#%%\n"
    }
   }
  },
  {
   "cell_type": "code",
   "execution_count": 6,
   "outputs": [],
   "source": [
    "X_train, X_test, y_train, y_test = train_test_split(X, y, test_size=0.50)"
   ],
   "metadata": {
    "collapsed": false,
    "pycharm": {
     "name": "#%%\n"
    }
   }
  },
  {
   "cell_type": "code",
   "execution_count": 7,
   "outputs": [],
   "source": [
    "scaler = StandardScaler()\n",
    "X_train = scaler.fit_transform(X_train)\n",
    "X_test = scaler.transform(X_test)"
   ],
   "metadata": {
    "collapsed": false,
    "pycharm": {
     "name": "#%%\n"
    }
   }
  },
  {
   "cell_type": "code",
   "execution_count": 8,
   "outputs": [],
   "source": [
    "def print_regression_model_metrics(estimator, y_test, y_pred):\n",
    "    print(f\"Коэффициент детерминации: {estimator.score(X,y)}\")\n",
    "    print(f'MSE: {mean_squared_error(y_test, y_pred)}')\n",
    "    print(f'RMSE: {mean_squared_error(y_test, y_pred, squared=False)}')\n",
    "    print(f'MAE: {mean_absolute_error(y_test, y_pred)}')"
   ],
   "metadata": {
    "collapsed": false,
    "pycharm": {
     "name": "#%%\n"
    }
   }
  },
  {
   "cell_type": "markdown",
   "source": [
    "# DTR"
   ],
   "metadata": {
    "collapsed": false
   }
  },
  {
   "cell_type": "code",
   "execution_count": 9,
   "outputs": [
    {
     "name": "stdout",
     "output_type": "stream",
     "text": [
      "Коэффициент детерминации: 0.3586689956529222\n",
      "MSE: 934.4087479607584\n",
      "RMSE: 30.56810016930654\n",
      "MAE: 19.57447420634921\n",
      "Wall time: 193 ms\n"
     ]
    }
   ],
   "source": [
    "%%time\n",
    "parameters_dtr = {'max_depth': np.arange(5,20,1)}\n",
    "dtr = DecisionTreeRegressor()\n",
    "dtr_base = GridSearchCV(dtr, parameters_dtr).fit(X_train, y_train)\n",
    "dtr_base.best_params_\n",
    "print_regression_model_metrics(dtr_base, y_test, dtr_base.predict(X_test))"
   ],
   "metadata": {
    "collapsed": false,
    "pycharm": {
     "name": "#%%\n"
    }
   }
  },
  {
   "cell_type": "markdown",
   "source": [
    "ensemble params"
   ],
   "metadata": {
    "collapsed": false
   }
  },
  {
   "cell_type": "code",
   "execution_count": 10,
   "outputs": [],
   "source": [
    "parameters_ensemble = {'n_estimators': np.arange(0,100,5),\n",
    "                       'max_features': np.arange(1,24,3)}"
   ],
   "metadata": {
    "collapsed": false,
    "pycharm": {
     "name": "#%%\n"
    }
   }
  },
  {
   "cell_type": "markdown",
   "source": [
    "# Бэггинг"
   ],
   "metadata": {
    "collapsed": false
   }
  },
  {
   "cell_type": "code",
   "execution_count": null,
   "outputs": [],
   "source": [
    "%%time\n",
    "bag = BaggingRegressor(base_estimator=DecisionTreeRegressor(max_depth=dtr_base.best_params_['max_depth']))\n",
    "model = GridSearchCV(bag, parameters_ensemble).fit(X_train, y_train)\n",
    "model.best_params_"
   ],
   "metadata": {
    "collapsed": false,
    "pycharm": {
     "name": "#%%\n"
    }
   }
  },
  {
   "cell_type": "code",
   "execution_count": null,
   "outputs": [],
   "source": [
    "print_regression_model_metrics(model, y_test, model.predict(X_test))"
   ],
   "metadata": {
    "collapsed": false,
    "pycharm": {
     "name": "#%%\n"
    }
   }
  },
  {
   "cell_type": "markdown",
   "source": [
    "# Бустинг"
   ],
   "metadata": {
    "collapsed": false
   }
  },
  {
   "cell_type": "code",
   "execution_count": 16,
   "outputs": [
    {
     "name": "stdout",
     "output_type": "stream",
     "text": [
      "Wall time: 14 s\n"
     ]
    },
    {
     "data": {
      "text/plain": "{'max_features': 4, 'n_estimators': 85}"
     },
     "execution_count": 16,
     "metadata": {},
     "output_type": "execute_result"
    }
   ],
   "source": [
    "%%time\n",
    "gbc = GradientBoostingRegressor()\n",
    "model = GridSearchCV(gbc, parameters_ensemble).fit(X_train, y_train)\n",
    "model.best_params_"
   ],
   "metadata": {
    "collapsed": false,
    "pycharm": {
     "name": "#%%\n"
    }
   }
  },
  {
   "cell_type": "code",
   "execution_count": 17,
   "outputs": [
    {
     "name": "stdout",
     "output_type": "stream",
     "text": [
      "Коэффициент детерминации: 0.1937542028342517\n",
      "MSE: 390.47253046259\n",
      "RMSE: 19.760377791494523\n",
      "MAE: 12.060433643421197\n"
     ]
    }
   ],
   "source": [
    "print_regression_model_metrics(model, y_test, model.predict(X_test))"
   ],
   "metadata": {
    "collapsed": false,
    "pycharm": {
     "name": "#%%\n"
    }
   }
  },
  {
   "cell_type": "markdown",
   "source": [],
   "metadata": {
    "collapsed": false
   }
  }
 ],
 "metadata": {
  "kernelspec": {
   "display_name": "Python 3",
   "language": "python",
   "name": "python3"
  },
  "language_info": {
   "codemirror_mode": {
    "name": "ipython",
    "version": 2
   },
   "file_extension": ".py",
   "mimetype": "text/x-python",
   "name": "python",
   "nbconvert_exporter": "python",
   "pygments_lexer": "ipython2",
   "version": "2.7.6"
  }
 },
 "nbformat": 4,
 "nbformat_minor": 0
}