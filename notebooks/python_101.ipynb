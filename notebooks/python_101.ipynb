{
  "cells":[
    {
      "cell_type":"code",
      "source":[
        "def unique(list1, list2):\n",
        "    return set.intersection(set(list1), set(list2))"
      ],
      "execution_count":1,
      "outputs":[
        
      ],
      "metadata":{
        
      }
    },
    {
      "cell_type":"code",
      "source":[
        "list1 = ['1', '2', '2', '4', '7']\n",
        "list2 = ['2', '3', '7', '7', '4']\n",
        "\n",
        "print(unique(list1, list2))"
      ],
      "execution_count":2,
      "outputs":[
        {
          "name":"stdout",
          "text":[
            "{'7', '2', '4'}\n"
          ],
          "output_type":"stream"
        }
      ],
      "metadata":{
        
      }
    }
  ],
  "metadata":{
    
  },
  "nbformat":4,
  "nbformat_minor":0
}