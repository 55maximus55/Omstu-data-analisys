{
 "cells": [
  {
   "cell_type": "markdown",
   "source": [
    "Импорт библиотек и загрузка датасета"
   ],
   "metadata": {
    "collapsed": false,
    "pycharm": {
     "name": "#%% md\n"
    }
   }
  },
  {
   "cell_type": "code",
   "execution_count": 1,
   "metadata": {
    "collapsed": true
   },
   "outputs": [],
   "source": [
    "import pandas as pd\n",
    "import numpy as np\n",
    "import warnings\n",
    "from sklearn.metrics import confusion_matrix, classification_report, mean_squared_error, mean_absolute_error\n",
    "from sklearn.model_selection import train_test_split, GridSearchCV\n",
    "from sklearn.preprocessing import StandardScaler\n",
    "from sklearn.tree import DecisionTreeClassifier\n",
    "from sklearn.ensemble import BaggingClassifier, GradientBoostingClassifier, StackingClassifier\n",
    "\n",
    "warnings.filterwarnings(\"ignore\")"
   ]
  },
  {
   "cell_type": "code",
   "execution_count": 2,
   "outputs": [],
   "source": [
    "data = pd.read_csv(r'../data/car-evaluation_preprocessed.csv', sep=',')"
   ],
   "metadata": {
    "collapsed": false,
    "pycharm": {
     "name": "#%%\n"
    }
   }
  },
  {
   "cell_type": "code",
   "execution_count": 3,
   "outputs": [
    {
     "data": {
      "text/plain": "      buying  maint  doors  persons  lug_boot  safety  class\n0          4      4      2        2         1       1      1\n1          4      4      2        2         1       2      1\n2          4      4      2        2         1       3      1\n3          4      4      2        2         2       1      1\n4          4      4      2        2         2       2      1\n...      ...    ...    ...      ...       ...     ...    ...\n1723       1      1      5        5         2       2      3\n1724       1      1      5        5         2       3      4\n1725       1      1      5        5         3       1      1\n1726       1      1      5        5         3       2      3\n1727       1      1      5        5         3       3      4\n\n[1728 rows x 7 columns]",
      "text/html": "<div>\n<style scoped>\n    .dataframe tbody tr th:only-of-type {\n        vertical-align: middle;\n    }\n\n    .dataframe tbody tr th {\n        vertical-align: top;\n    }\n\n    .dataframe thead th {\n        text-align: right;\n    }\n</style>\n<table border=\"1\" class=\"dataframe\">\n  <thead>\n    <tr style=\"text-align: right;\">\n      <th></th>\n      <th>buying</th>\n      <th>maint</th>\n      <th>doors</th>\n      <th>persons</th>\n      <th>lug_boot</th>\n      <th>safety</th>\n      <th>class</th>\n    </tr>\n  </thead>\n  <tbody>\n    <tr>\n      <th>0</th>\n      <td>4</td>\n      <td>4</td>\n      <td>2</td>\n      <td>2</td>\n      <td>1</td>\n      <td>1</td>\n      <td>1</td>\n    </tr>\n    <tr>\n      <th>1</th>\n      <td>4</td>\n      <td>4</td>\n      <td>2</td>\n      <td>2</td>\n      <td>1</td>\n      <td>2</td>\n      <td>1</td>\n    </tr>\n    <tr>\n      <th>2</th>\n      <td>4</td>\n      <td>4</td>\n      <td>2</td>\n      <td>2</td>\n      <td>1</td>\n      <td>3</td>\n      <td>1</td>\n    </tr>\n    <tr>\n      <th>3</th>\n      <td>4</td>\n      <td>4</td>\n      <td>2</td>\n      <td>2</td>\n      <td>2</td>\n      <td>1</td>\n      <td>1</td>\n    </tr>\n    <tr>\n      <th>4</th>\n      <td>4</td>\n      <td>4</td>\n      <td>2</td>\n      <td>2</td>\n      <td>2</td>\n      <td>2</td>\n      <td>1</td>\n    </tr>\n    <tr>\n      <th>...</th>\n      <td>...</td>\n      <td>...</td>\n      <td>...</td>\n      <td>...</td>\n      <td>...</td>\n      <td>...</td>\n      <td>...</td>\n    </tr>\n    <tr>\n      <th>1723</th>\n      <td>1</td>\n      <td>1</td>\n      <td>5</td>\n      <td>5</td>\n      <td>2</td>\n      <td>2</td>\n      <td>3</td>\n    </tr>\n    <tr>\n      <th>1724</th>\n      <td>1</td>\n      <td>1</td>\n      <td>5</td>\n      <td>5</td>\n      <td>2</td>\n      <td>3</td>\n      <td>4</td>\n    </tr>\n    <tr>\n      <th>1725</th>\n      <td>1</td>\n      <td>1</td>\n      <td>5</td>\n      <td>5</td>\n      <td>3</td>\n      <td>1</td>\n      <td>1</td>\n    </tr>\n    <tr>\n      <th>1726</th>\n      <td>1</td>\n      <td>1</td>\n      <td>5</td>\n      <td>5</td>\n      <td>3</td>\n      <td>2</td>\n      <td>3</td>\n    </tr>\n    <tr>\n      <th>1727</th>\n      <td>1</td>\n      <td>1</td>\n      <td>5</td>\n      <td>5</td>\n      <td>3</td>\n      <td>3</td>\n      <td>4</td>\n    </tr>\n  </tbody>\n</table>\n<p>1728 rows × 7 columns</p>\n</div>"
     },
     "execution_count": 3,
     "metadata": {},
     "output_type": "execute_result"
    }
   ],
   "source": [
    "data"
   ],
   "metadata": {
    "collapsed": false,
    "pycharm": {
     "name": "#%%\n"
    }
   }
  },
  {
   "cell_type": "code",
   "execution_count": 4,
   "outputs": [],
   "source": [
    "X = data.iloc[:, :-1].values\n",
    "y = data.iloc[:, 6].values"
   ],
   "metadata": {
    "collapsed": false,
    "pycharm": {
     "name": "#%%\n"
    }
   }
  },
  {
   "cell_type": "code",
   "execution_count": 5,
   "outputs": [],
   "source": [
    "\n",
    "X_train, X_test, y_train, y_test = train_test_split(X, y, test_size=0.20)"
   ],
   "metadata": {
    "collapsed": false,
    "pycharm": {
     "name": "#%%\n"
    }
   }
  },
  {
   "cell_type": "code",
   "execution_count": 6,
   "outputs": [],
   "source": [
    "scaler = StandardScaler()\n",
    "X_train = scaler.fit_transform(X_train)\n",
    "X_test = scaler.transform(X_test)"
   ],
   "metadata": {
    "collapsed": false,
    "pycharm": {
     "name": "#%%\n"
    }
   }
  },
  {
   "cell_type": "code",
   "execution_count": 7,
   "outputs": [],
   "source": [
    "def print_classification_model_metrics(estimator, y_test, y_pred):\n",
    "    print(confusion_matrix(y_test, y_pred))\n",
    "    print(classification_report(y_test, y_pred))\n",
    "    print(estimator.score(X_test, y_test))"
   ],
   "metadata": {
    "collapsed": false,
    "pycharm": {
     "name": "#%%\n"
    }
   }
  },
  {
   "cell_type": "markdown",
   "source": [
    "# DTC"
   ],
   "metadata": {
    "collapsed": false,
    "pycharm": {
     "name": "#%% md\n"
    }
   }
  },
  {
   "cell_type": "code",
   "execution_count": 8,
   "outputs": [
    {
     "name": "stdout",
     "output_type": "stream",
     "text": [
      "Wall time: 236 ms\n"
     ]
    },
    {
     "data": {
      "text/plain": "{'max_depth': 17}"
     },
     "execution_count": 8,
     "metadata": {},
     "output_type": "execute_result"
    }
   ],
   "source": [
    "%%time\n",
    "parameters_dtc = {'max_depth': np.arange(1,20,1)}\n",
    "dtc = DecisionTreeClassifier()\n",
    "dtc_base = GridSearchCV(dtc, parameters_dtc).fit(X_train, y_train)\n",
    "dtc_base.best_params_"
   ],
   "metadata": {
    "collapsed": false,
    "pycharm": {
     "name": "#%%\n"
    }
   }
  },
  {
   "cell_type": "code",
   "execution_count": 9,
   "outputs": [
    {
     "name": "stdout",
     "output_type": "stream",
     "text": [
      "[[235   3   0   0]\n",
      " [  4  66   3   1]\n",
      " [  1   0  16   1]\n",
      " [  0   0   0  16]]\n",
      "              precision    recall  f1-score   support\n",
      "\n",
      "           1       0.98      0.99      0.98       238\n",
      "           2       0.96      0.89      0.92        74\n",
      "           3       0.84      0.89      0.86        18\n",
      "           4       0.89      1.00      0.94        16\n",
      "\n",
      "    accuracy                           0.96       346\n",
      "   macro avg       0.92      0.94      0.93       346\n",
      "weighted avg       0.96      0.96      0.96       346\n",
      "\n",
      "0.9624277456647399\n"
     ]
    }
   ],
   "source": [
    "print_classification_model_metrics(dtc_base, y_test, dtc_base.predict(X_test))"
   ],
   "metadata": {
    "collapsed": false,
    "pycharm": {
     "name": "#%%\n"
    }
   }
  },
  {
   "cell_type": "markdown",
   "source": [
    "ensemble params"
   ],
   "metadata": {
    "collapsed": false,
    "pycharm": {
     "name": "#%% md\n"
    }
   }
  },
  {
   "cell_type": "code",
   "execution_count": 10,
   "outputs": [],
   "source": [
    "parameters_ensemble = {'n_estimators': np.arange(0,100,5),\n",
    "                       'max_features': np.arange(1,24,3)}"
   ],
   "metadata": {
    "collapsed": false,
    "pycharm": {
     "name": "#%%\n"
    }
   }
  },
  {
   "cell_type": "markdown",
   "source": [
    "# Бэггинг"
   ],
   "metadata": {
    "collapsed": false,
    "pycharm": {
     "name": "#%% md\n"
    }
   }
  },
  {
   "cell_type": "code",
   "execution_count": 11,
   "outputs": [
    {
     "name": "stdout",
     "output_type": "stream",
     "text": [
      "Wall time: 25.5 s\n"
     ]
    },
    {
     "data": {
      "text/plain": "{'max_features': 4, 'n_estimators': 45}"
     },
     "execution_count": 11,
     "metadata": {},
     "output_type": "execute_result"
    }
   ],
   "source": [
    "%%time\n",
    "bag = BaggingClassifier(base_estimator=DecisionTreeClassifier(max_depth=dtc_base.best_params_['max_depth']))\n",
    "model = GridSearchCV(bag, parameters_ensemble).fit(X_train, y_train)\n",
    "model.best_params_"
   ],
   "metadata": {
    "collapsed": false,
    "pycharm": {
     "name": "#%%\n"
    }
   }
  },
  {
   "cell_type": "code",
   "execution_count": 12,
   "outputs": [
    {
     "name": "stdout",
     "output_type": "stream",
     "text": [
      "[[238   0   0   0]\n",
      " [ 22  52   0   0]\n",
      " [  1  17   0   0]\n",
      " [  0   9   0   7]]\n",
      "              precision    recall  f1-score   support\n",
      "\n",
      "           1       0.91      1.00      0.95       238\n",
      "           2       0.67      0.70      0.68        74\n",
      "           3       0.00      0.00      0.00        18\n",
      "           4       1.00      0.44      0.61        16\n",
      "\n",
      "    accuracy                           0.86       346\n",
      "   macro avg       0.64      0.54      0.56       346\n",
      "weighted avg       0.82      0.86      0.83       346\n",
      "\n",
      "0.8583815028901735\n"
     ]
    }
   ],
   "source": [
    "print_classification_model_metrics(model, y_test, model.predict(X_test))"
   ],
   "metadata": {
    "collapsed": false,
    "pycharm": {
     "name": "#%%\n"
    }
   }
  },
  {
   "cell_type": "markdown",
   "source": [
    "# Бустинг"
   ],
   "metadata": {
    "collapsed": false
   }
  },
  {
   "cell_type": "code",
   "execution_count": 13,
   "outputs": [
    {
     "name": "stdout",
     "output_type": "stream",
     "text": [
      "Wall time: 1min\n"
     ]
    },
    {
     "data": {
      "text/plain": "{'max_features': 4, 'n_estimators': 95}"
     },
     "execution_count": 13,
     "metadata": {},
     "output_type": "execute_result"
    }
   ],
   "source": [
    "%%time\n",
    "gbc = GradientBoostingClassifier()\n",
    "model = GridSearchCV(gbc, parameters_ensemble).fit(X_train, y_train)\n",
    "model.best_params_"
   ],
   "metadata": {
    "collapsed": false,
    "pycharm": {
     "name": "#%%\n"
    }
   }
  },
  {
   "cell_type": "code",
   "execution_count": 14,
   "outputs": [
    {
     "name": "stdout",
     "output_type": "stream",
     "text": [
      "[[236   2   0   0]\n",
      " [  0  70   3   1]\n",
      " [  0   0  18   0]\n",
      " [  0   0   0  16]]\n",
      "              precision    recall  f1-score   support\n",
      "\n",
      "           1       1.00      0.99      1.00       238\n",
      "           2       0.97      0.95      0.96        74\n",
      "           3       0.86      1.00      0.92        18\n",
      "           4       0.94      1.00      0.97        16\n",
      "\n",
      "    accuracy                           0.98       346\n",
      "   macro avg       0.94      0.98      0.96       346\n",
      "weighted avg       0.98      0.98      0.98       346\n",
      "\n",
      "0.9826589595375722\n"
     ]
    }
   ],
   "source": [
    "print_classification_model_metrics(model, y_test, model.predict(X_test))"
   ],
   "metadata": {
    "collapsed": false,
    "pycharm": {
     "name": "#%%\n"
    }
   }
  },
  {
   "cell_type": "markdown",
   "source": [
    "# Стекинг"
   ],
   "metadata": {
    "collapsed": false
   }
  },
  {
   "cell_type": "code",
   "execution_count": 15,
   "outputs": [
    {
     "name": "stdout",
     "output_type": "stream",
     "text": [
      "Wall time: 4.71 s\n"
     ]
    }
   ],
   "source": [
    "%%time\n",
    "model = StackingClassifier(estimators=[('bag',bag), ('gbc',gbc)],\n",
    "                           final_estimator=dtc_base).fit(X_train, y_train)"
   ],
   "metadata": {
    "collapsed": false,
    "pycharm": {
     "name": "#%%\n"
    }
   }
  },
  {
   "cell_type": "code",
   "execution_count": 16,
   "outputs": [
    {
     "name": "stdout",
     "output_type": "stream",
     "text": [
      "[[238   0   0   0]\n",
      " [  1  72   1   0]\n",
      " [  0   1  17   0]\n",
      " [  0   1   1  14]]\n",
      "              precision    recall  f1-score   support\n",
      "\n",
      "           1       1.00      1.00      1.00       238\n",
      "           2       0.97      0.97      0.97        74\n",
      "           3       0.89      0.94      0.92        18\n",
      "           4       1.00      0.88      0.93        16\n",
      "\n",
      "    accuracy                           0.99       346\n",
      "   macro avg       0.97      0.95      0.96       346\n",
      "weighted avg       0.99      0.99      0.99       346\n",
      "\n",
      "0.9855491329479769\n"
     ]
    }
   ],
   "source": [
    "print_classification_model_metrics(model, y_test, model.predict(X_test))"
   ],
   "metadata": {
    "collapsed": false,
    "pycharm": {
     "name": "#%%\n"
    }
   }
  }
 ],
 "metadata": {
  "kernelspec": {
   "display_name": "Python 3",
   "language": "python",
   "name": "python3"
  },
  "language_info": {
   "codemirror_mode": {
    "name": "ipython",
    "version": 2
   },
   "file_extension": ".py",
   "mimetype": "text/x-python",
   "name": "python",
   "nbconvert_exporter": "python",
   "pygments_lexer": "ipython2",
   "version": "2.7.6"
  }
 },
 "nbformat": 4,
 "nbformat_minor": 0
}