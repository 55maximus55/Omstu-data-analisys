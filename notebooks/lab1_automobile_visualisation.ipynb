{
 "cells": [
  {
   "cell_type": "markdown",
   "source": [
    "# Визуализация датасета automobile"
   ],
   "metadata": {
    "collapsed": false,
    "pycharm": {
     "name": "#%% md\n"
    }
   }
  },
  {
   "cell_type": "markdown",
   "source": [
    "Загрузка библиотек"
   ],
   "metadata": {
    "collapsed": false
   }
  },
  {
   "cell_type": "code",
   "execution_count": 1,
   "metadata": {
    "collapsed": true
   },
   "outputs": [],
   "source": [
    "import pandas as pd\n",
    "import seaborn as sns\n",
    "import matplotlib.pyplot as plt\n",
    "from pylab import rcParams"
   ]
  },
  {
   "cell_type": "code",
   "execution_count": 2,
   "outputs": [],
   "source": [
    "data = pd.read_csv(r'../data/automobile.csv', sep=',')\n",
    "data = data.replace('?', 'NaN')\n",
    "data = data.replace('two', 2)\n",
    "data = data.replace('three', 3)\n",
    "data = data.replace('four', 4)\n",
    "data = data.replace('five', 5)\n",
    "data = data.replace('six', 6)\n",
    "data = data.replace('eight', 8)\n",
    "data = data.replace('twelve', 12)\n",
    "data['normalized-losses'] = data['normalized-losses'].astype('float64')\n",
    "data['num-of-doors'] = data['num-of-doors'].astype('float64')\n",
    "data['bore'] = data['bore'].astype('float64')\n",
    "data['stroke'] = data['stroke'].astype('float64')\n",
    "data['horsepower'] = data['horsepower'].astype('float64')\n",
    "data['peak-rpm'] = data['peak-rpm'].astype('float64')\n",
    "data['price'] = data['price'].astype('float64')"
   ],
   "metadata": {
    "collapsed": false,
    "pycharm": {
     "name": "#%%\n"
    }
   }
  },
  {
   "cell_type": "code",
   "execution_count": 3,
   "outputs": [],
   "source": [
    "data = data.dropna()"
   ],
   "metadata": {
    "collapsed": false,
    "pycharm": {
     "name": "#%%\n"
    }
   }
  },
  {
   "cell_type": "code",
   "execution_count": 4,
   "outputs": [
    {
     "name": "stdout",
     "output_type": "stream",
     "text": [
      "<class 'pandas.core.frame.DataFrame'>\n",
      "Int64Index: 159 entries, 3 to 204\n",
      "Data columns (total 26 columns):\n",
      " #   Column             Non-Null Count  Dtype  \n",
      "---  ------             --------------  -----  \n",
      " 0   symboling          159 non-null    int64  \n",
      " 1   normalized-losses  159 non-null    float64\n",
      " 2   vendor             159 non-null    object \n",
      " 3   fuel-type          159 non-null    object \n",
      " 4   aspiration         159 non-null    object \n",
      " 5   num-of-doors       159 non-null    float64\n",
      " 6   body-style         159 non-null    object \n",
      " 7   drive-wheels       159 non-null    object \n",
      " 8   engine-location    159 non-null    object \n",
      " 9   wheel-base         159 non-null    float64\n",
      " 10  length             159 non-null    float64\n",
      " 11  width              159 non-null    float64\n",
      " 12  height             159 non-null    float64\n",
      " 13  curb-weight        159 non-null    int64  \n",
      " 14  engine-type        159 non-null    object \n",
      " 15  num-of-cylinders   159 non-null    int64  \n",
      " 16  engine-size        159 non-null    int64  \n",
      " 17  fuel-system        159 non-null    object \n",
      " 18  bore               159 non-null    float64\n",
      " 19  stroke             159 non-null    float64\n",
      " 20  compression-ratio  159 non-null    float64\n",
      " 21  horsepower         159 non-null    float64\n",
      " 22  peak-rpm           159 non-null    float64\n",
      " 23  city-mpg           159 non-null    int64  \n",
      " 24  highway-mpg        159 non-null    int64  \n",
      " 25  price              159 non-null    float64\n",
      "dtypes: float64(12), int64(6), object(8)\n",
      "memory usage: 33.5+ KB\n"
     ]
    },
    {
     "data": {
      "text/plain": "     symboling  normalized-losses vendor fuel-type aspiration  num-of-doors  \\\n3            2              164.0   audi       gas        std           4.0   \n4            2              164.0   audi       gas        std           4.0   \n6            1              158.0   audi       gas        std           4.0   \n8            1              158.0   audi       gas      turbo           4.0   \n10           2              192.0    bmw       gas        std           2.0   \n..         ...                ...    ...       ...        ...           ...   \n200         -1               95.0  volvo       gas        std           4.0   \n201         -1               95.0  volvo       gas      turbo           4.0   \n202         -1               95.0  volvo       gas        std           4.0   \n203         -1               95.0  volvo    diesel      turbo           4.0   \n204         -1               95.0  volvo       gas      turbo           4.0   \n\n    body-style drive-wheels engine-location  wheel-base  ...  engine-size  \\\n3        sedan          fwd           front        99.8  ...          109   \n4        sedan          4wd           front        99.4  ...          136   \n6        sedan          fwd           front       105.8  ...          136   \n8        sedan          fwd           front       105.8  ...          131   \n10       sedan          rwd           front       101.2  ...          108   \n..         ...          ...             ...         ...  ...          ...   \n200      sedan          rwd           front       109.1  ...          141   \n201      sedan          rwd           front       109.1  ...          141   \n202      sedan          rwd           front       109.1  ...          173   \n203      sedan          rwd           front       109.1  ...          145   \n204      sedan          rwd           front       109.1  ...          141   \n\n     fuel-system  bore  stroke compression-ratio  horsepower  peak-rpm  \\\n3           mpfi  3.19    3.40              10.0       102.0    5500.0   \n4           mpfi  3.19    3.40               8.0       115.0    5500.0   \n6           mpfi  3.19    3.40               8.5       110.0    5500.0   \n8           mpfi  3.13    3.40               8.3       140.0    5500.0   \n10          mpfi  3.50    2.80               8.8       101.0    5800.0   \n..           ...   ...     ...               ...         ...       ...   \n200         mpfi  3.78    3.15               9.5       114.0    5400.0   \n201         mpfi  3.78    3.15               8.7       160.0    5300.0   \n202         mpfi  3.58    2.87               8.8       134.0    5500.0   \n203          idi  3.01    3.40              23.0       106.0    4800.0   \n204         mpfi  3.78    3.15               9.5       114.0    5400.0   \n\n    city-mpg  highway-mpg    price  \n3         24           30  13950.0  \n4         18           22  17450.0  \n6         19           25  17710.0  \n8         17           20  23875.0  \n10        23           29  16430.0  \n..       ...          ...      ...  \n200       23           28  16845.0  \n201       19           25  19045.0  \n202       18           23  21485.0  \n203       26           27  22470.0  \n204       19           25  22625.0  \n\n[159 rows x 26 columns]",
      "text/html": "<div>\n<style scoped>\n    .dataframe tbody tr th:only-of-type {\n        vertical-align: middle;\n    }\n\n    .dataframe tbody tr th {\n        vertical-align: top;\n    }\n\n    .dataframe thead th {\n        text-align: right;\n    }\n</style>\n<table border=\"1\" class=\"dataframe\">\n  <thead>\n    <tr style=\"text-align: right;\">\n      <th></th>\n      <th>symboling</th>\n      <th>normalized-losses</th>\n      <th>vendor</th>\n      <th>fuel-type</th>\n      <th>aspiration</th>\n      <th>num-of-doors</th>\n      <th>body-style</th>\n      <th>drive-wheels</th>\n      <th>engine-location</th>\n      <th>wheel-base</th>\n      <th>...</th>\n      <th>engine-size</th>\n      <th>fuel-system</th>\n      <th>bore</th>\n      <th>stroke</th>\n      <th>compression-ratio</th>\n      <th>horsepower</th>\n      <th>peak-rpm</th>\n      <th>city-mpg</th>\n      <th>highway-mpg</th>\n      <th>price</th>\n    </tr>\n  </thead>\n  <tbody>\n    <tr>\n      <th>3</th>\n      <td>2</td>\n      <td>164.0</td>\n      <td>audi</td>\n      <td>gas</td>\n      <td>std</td>\n      <td>4.0</td>\n      <td>sedan</td>\n      <td>fwd</td>\n      <td>front</td>\n      <td>99.8</td>\n      <td>...</td>\n      <td>109</td>\n      <td>mpfi</td>\n      <td>3.19</td>\n      <td>3.40</td>\n      <td>10.0</td>\n      <td>102.0</td>\n      <td>5500.0</td>\n      <td>24</td>\n      <td>30</td>\n      <td>13950.0</td>\n    </tr>\n    <tr>\n      <th>4</th>\n      <td>2</td>\n      <td>164.0</td>\n      <td>audi</td>\n      <td>gas</td>\n      <td>std</td>\n      <td>4.0</td>\n      <td>sedan</td>\n      <td>4wd</td>\n      <td>front</td>\n      <td>99.4</td>\n      <td>...</td>\n      <td>136</td>\n      <td>mpfi</td>\n      <td>3.19</td>\n      <td>3.40</td>\n      <td>8.0</td>\n      <td>115.0</td>\n      <td>5500.0</td>\n      <td>18</td>\n      <td>22</td>\n      <td>17450.0</td>\n    </tr>\n    <tr>\n      <th>6</th>\n      <td>1</td>\n      <td>158.0</td>\n      <td>audi</td>\n      <td>gas</td>\n      <td>std</td>\n      <td>4.0</td>\n      <td>sedan</td>\n      <td>fwd</td>\n      <td>front</td>\n      <td>105.8</td>\n      <td>...</td>\n      <td>136</td>\n      <td>mpfi</td>\n      <td>3.19</td>\n      <td>3.40</td>\n      <td>8.5</td>\n      <td>110.0</td>\n      <td>5500.0</td>\n      <td>19</td>\n      <td>25</td>\n      <td>17710.0</td>\n    </tr>\n    <tr>\n      <th>8</th>\n      <td>1</td>\n      <td>158.0</td>\n      <td>audi</td>\n      <td>gas</td>\n      <td>turbo</td>\n      <td>4.0</td>\n      <td>sedan</td>\n      <td>fwd</td>\n      <td>front</td>\n      <td>105.8</td>\n      <td>...</td>\n      <td>131</td>\n      <td>mpfi</td>\n      <td>3.13</td>\n      <td>3.40</td>\n      <td>8.3</td>\n      <td>140.0</td>\n      <td>5500.0</td>\n      <td>17</td>\n      <td>20</td>\n      <td>23875.0</td>\n    </tr>\n    <tr>\n      <th>10</th>\n      <td>2</td>\n      <td>192.0</td>\n      <td>bmw</td>\n      <td>gas</td>\n      <td>std</td>\n      <td>2.0</td>\n      <td>sedan</td>\n      <td>rwd</td>\n      <td>front</td>\n      <td>101.2</td>\n      <td>...</td>\n      <td>108</td>\n      <td>mpfi</td>\n      <td>3.50</td>\n      <td>2.80</td>\n      <td>8.8</td>\n      <td>101.0</td>\n      <td>5800.0</td>\n      <td>23</td>\n      <td>29</td>\n      <td>16430.0</td>\n    </tr>\n    <tr>\n      <th>...</th>\n      <td>...</td>\n      <td>...</td>\n      <td>...</td>\n      <td>...</td>\n      <td>...</td>\n      <td>...</td>\n      <td>...</td>\n      <td>...</td>\n      <td>...</td>\n      <td>...</td>\n      <td>...</td>\n      <td>...</td>\n      <td>...</td>\n      <td>...</td>\n      <td>...</td>\n      <td>...</td>\n      <td>...</td>\n      <td>...</td>\n      <td>...</td>\n      <td>...</td>\n      <td>...</td>\n    </tr>\n    <tr>\n      <th>200</th>\n      <td>-1</td>\n      <td>95.0</td>\n      <td>volvo</td>\n      <td>gas</td>\n      <td>std</td>\n      <td>4.0</td>\n      <td>sedan</td>\n      <td>rwd</td>\n      <td>front</td>\n      <td>109.1</td>\n      <td>...</td>\n      <td>141</td>\n      <td>mpfi</td>\n      <td>3.78</td>\n      <td>3.15</td>\n      <td>9.5</td>\n      <td>114.0</td>\n      <td>5400.0</td>\n      <td>23</td>\n      <td>28</td>\n      <td>16845.0</td>\n    </tr>\n    <tr>\n      <th>201</th>\n      <td>-1</td>\n      <td>95.0</td>\n      <td>volvo</td>\n      <td>gas</td>\n      <td>turbo</td>\n      <td>4.0</td>\n      <td>sedan</td>\n      <td>rwd</td>\n      <td>front</td>\n      <td>109.1</td>\n      <td>...</td>\n      <td>141</td>\n      <td>mpfi</td>\n      <td>3.78</td>\n      <td>3.15</td>\n      <td>8.7</td>\n      <td>160.0</td>\n      <td>5300.0</td>\n      <td>19</td>\n      <td>25</td>\n      <td>19045.0</td>\n    </tr>\n    <tr>\n      <th>202</th>\n      <td>-1</td>\n      <td>95.0</td>\n      <td>volvo</td>\n      <td>gas</td>\n      <td>std</td>\n      <td>4.0</td>\n      <td>sedan</td>\n      <td>rwd</td>\n      <td>front</td>\n      <td>109.1</td>\n      <td>...</td>\n      <td>173</td>\n      <td>mpfi</td>\n      <td>3.58</td>\n      <td>2.87</td>\n      <td>8.8</td>\n      <td>134.0</td>\n      <td>5500.0</td>\n      <td>18</td>\n      <td>23</td>\n      <td>21485.0</td>\n    </tr>\n    <tr>\n      <th>203</th>\n      <td>-1</td>\n      <td>95.0</td>\n      <td>volvo</td>\n      <td>diesel</td>\n      <td>turbo</td>\n      <td>4.0</td>\n      <td>sedan</td>\n      <td>rwd</td>\n      <td>front</td>\n      <td>109.1</td>\n      <td>...</td>\n      <td>145</td>\n      <td>idi</td>\n      <td>3.01</td>\n      <td>3.40</td>\n      <td>23.0</td>\n      <td>106.0</td>\n      <td>4800.0</td>\n      <td>26</td>\n      <td>27</td>\n      <td>22470.0</td>\n    </tr>\n    <tr>\n      <th>204</th>\n      <td>-1</td>\n      <td>95.0</td>\n      <td>volvo</td>\n      <td>gas</td>\n      <td>turbo</td>\n      <td>4.0</td>\n      <td>sedan</td>\n      <td>rwd</td>\n      <td>front</td>\n      <td>109.1</td>\n      <td>...</td>\n      <td>141</td>\n      <td>mpfi</td>\n      <td>3.78</td>\n      <td>3.15</td>\n      <td>9.5</td>\n      <td>114.0</td>\n      <td>5400.0</td>\n      <td>19</td>\n      <td>25</td>\n      <td>22625.0</td>\n    </tr>\n  </tbody>\n</table>\n<p>159 rows × 26 columns</p>\n</div>"
     },
     "execution_count": 4,
     "metadata": {},
     "output_type": "execute_result"
    }
   ],
   "source": [
    "data.info()\n",
    "data"
   ],
   "metadata": {
    "collapsed": false,
    "pycharm": {
     "name": "#%%\n"
    }
   }
  },
  {
   "cell_type": "code",
   "execution_count": 5,
   "outputs": [
    {
     "data": {
      "text/plain": "<AxesSubplot:xlabel='city-mpg', ylabel='horsepower'>"
     },
     "execution_count": 5,
     "metadata": {},
     "output_type": "execute_result"
    },
    {
     "data": {
      "text/plain": "<Figure size 432x288 with 1 Axes>",
      "image/png": "[encoded data removed]"
     },
     "metadata": {
      "needs_background": "light"
     },
     "output_type": "display_data"
    }
   ],
   "source": [
    "data.plot(x='city-mpg', y='horsepower', kind='scatter')"
   ],
   "metadata": {
    "collapsed": false,
    "pycharm": {
     "name": "#%%\n"
    }
   }
  },
  {
   "cell_type": "code",
   "execution_count": 6,
   "outputs": [
    {
     "data": {
      "text/plain": "<AxesSubplot:xlabel='city-mpg', ylabel='fuel-system'>"
     },
     "execution_count": 6,
     "metadata": {},
     "output_type": "execute_result"
    },
    {
     "data": {
      "text/plain": "<Figure size 432x288 with 1 Axes>",
      "image/png": "[encoded data removed]"
     },
     "metadata": {
      "needs_background": "light"
     },
     "output_type": "display_data"
    }
   ],
   "source": [
    "sns.boxplot(data=data, x='city-mpg', y='fuel-system')\n",
    "# sns.boxplot(data=data, x='highway-mpg', y='fuel-type')"
   ],
   "metadata": {
    "collapsed": false,
    "pycharm": {
     "name": "#%%\n"
    }
   }
  },
  {
   "cell_type": "code",
   "execution_count": 6,
   "outputs": [],
   "source": [],
   "metadata": {
    "collapsed": false,
    "pycharm": {
     "name": "#%%"
    }
   }
  }
 ],
 "metadata": {
  "kernelspec": {
   "display_name": "Python 3",
   "language": "python",
   "name": "python3"
  },
  "language_info": {
   "codemirror_mode": {
    "name": "ipython",
    "version": 2
   },
   "file_extension": ".py",
   "mimetype": "text/x-python",
   "name": "python",
   "nbconvert_exporter": "python",
   "pygments_lexer": "ipython2",
   "version": "2.7.6"
  }
 },
 "nbformat": 4,
 "nbformat_minor": 0
}