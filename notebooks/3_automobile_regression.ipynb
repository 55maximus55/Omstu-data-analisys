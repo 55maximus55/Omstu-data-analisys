{
 "cells": [
  {
   "cell_type": "code",
   "execution_count": 1,
   "metadata": {
    "collapsed": true
   },
   "outputs": [],
   "source": [
    "import pandas as pd\n",
    "import numpy as np"
   ]
  },
  {
   "cell_type": "code",
   "execution_count": 2,
   "outputs": [],
   "source": [
    "data = pd.read_csv(r'../data/automobile_preprocessed.csv')"
   ],
   "metadata": {
    "collapsed": false,
    "pycharm": {
     "name": "#%%\n"
    }
   }
  },
  {
   "cell_type": "code",
   "execution_count": 3,
   "outputs": [
    {
     "name": "stdout",
     "output_type": "stream",
     "text": [
      "<class 'pandas.core.frame.DataFrame'>\n",
      "RangeIndex: 159 entries, 0 to 158\n",
      "Data columns (total 60 columns):\n",
      " #   Column                  Non-Null Count  Dtype  \n",
      "---  ------                  --------------  -----  \n",
      " 0   symboling               159 non-null    int64  \n",
      " 1   normalized-losses       159 non-null    float64\n",
      " 2   num-of-doors            159 non-null    float64\n",
      " 3   wheel-base              159 non-null    float64\n",
      " 4   length                  159 non-null    float64\n",
      " 5   width                   159 non-null    float64\n",
      " 6   height                  159 non-null    float64\n",
      " 7   curb-weight             159 non-null    int64  \n",
      " 8   num-of-cylinders        159 non-null    int64  \n",
      " 9   engine-size             159 non-null    int64  \n",
      " 10  bore                    159 non-null    float64\n",
      " 11  stroke                  159 non-null    float64\n",
      " 12  compression-ratio       159 non-null    float64\n",
      " 13  horsepower              159 non-null    float64\n",
      " 14  peak-rpm                159 non-null    float64\n",
      " 15  city-mpg                159 non-null    int64  \n",
      " 16  highway-mpg             159 non-null    int64  \n",
      " 17  price                   159 non-null    float64\n",
      " 18  vendor_audi             159 non-null    int64  \n",
      " 19  vendor_bmw              159 non-null    int64  \n",
      " 20  vendor_chevrolet        159 non-null    int64  \n",
      " 21  vendor_dodge            159 non-null    int64  \n",
      " 22  vendor_honda            159 non-null    int64  \n",
      " 23  vendor_jaguar           159 non-null    int64  \n",
      " 24  vendor_mazda            159 non-null    int64  \n",
      " 25  vendor_mercedes-benz    159 non-null    int64  \n",
      " 26  vendor_mitsubishi       159 non-null    int64  \n",
      " 27  vendor_nissan           159 non-null    int64  \n",
      " 28  vendor_peugot           159 non-null    int64  \n",
      " 29  vendor_plymouth         159 non-null    int64  \n",
      " 30  vendor_porsche          159 non-null    int64  \n",
      " 31  vendor_saab             159 non-null    int64  \n",
      " 32  vendor_subaru           159 non-null    int64  \n",
      " 33  vendor_toyota           159 non-null    int64  \n",
      " 34  vendor_volkswagen       159 non-null    int64  \n",
      " 35  vendor_volvo            159 non-null    int64  \n",
      " 36  fuel-type_diesel        159 non-null    int64  \n",
      " 37  fuel-type_gas           159 non-null    int64  \n",
      " 38  aspiration_std          159 non-null    int64  \n",
      " 39  aspiration_turbo        159 non-null    int64  \n",
      " 40  body-style_convertible  159 non-null    int64  \n",
      " 41  body-style_hardtop      159 non-null    int64  \n",
      " 42  body-style_hatchback    159 non-null    int64  \n",
      " 43  body-style_sedan        159 non-null    int64  \n",
      " 44  body-style_wagon        159 non-null    int64  \n",
      " 45  drive-wheels_4wd        159 non-null    int64  \n",
      " 46  drive-wheels_fwd        159 non-null    int64  \n",
      " 47  drive-wheels_rwd        159 non-null    int64  \n",
      " 48  engine-location_front   159 non-null    int64  \n",
      " 49  engine-type_dohc        159 non-null    int64  \n",
      " 50  engine-type_l           159 non-null    int64  \n",
      " 51  engine-type_ohc         159 non-null    int64  \n",
      " 52  engine-type_ohcf        159 non-null    int64  \n",
      " 53  engine-type_ohcv        159 non-null    int64  \n",
      " 54  fuel-system_1bbl        159 non-null    int64  \n",
      " 55  fuel-system_2bbl        159 non-null    int64  \n",
      " 56  fuel-system_idi         159 non-null    int64  \n",
      " 57  fuel-system_mfi         159 non-null    int64  \n",
      " 58  fuel-system_mpfi        159 non-null    int64  \n",
      " 59  fuel-system_spdi        159 non-null    int64  \n",
      "dtypes: float64(12), int64(48)\n",
      "memory usage: 74.7 KB\n"
     ]
    },
    {
     "data": {
      "text/plain": "     symboling  normalized-losses  num-of-doors  wheel-base  length  width  \\\n0            2              164.0           4.0        99.8   176.6   66.2   \n1            2              164.0           4.0        99.4   176.6   66.4   \n2            1              158.0           4.0       105.8   192.7   71.4   \n3            1              158.0           4.0       105.8   192.7   71.4   \n4            2              192.0           2.0       101.2   176.8   64.8   \n..         ...                ...           ...         ...     ...    ...   \n154         -1               95.0           4.0       109.1   188.8   68.9   \n155         -1               95.0           4.0       109.1   188.8   68.8   \n156         -1               95.0           4.0       109.1   188.8   68.9   \n157         -1               95.0           4.0       109.1   188.8   68.9   \n158         -1               95.0           4.0       109.1   188.8   68.9   \n\n     height  curb-weight  num-of-cylinders  engine-size  ...  engine-type_l  \\\n0      54.3         2337                 4          109  ...              0   \n1      54.3         2824                 5          136  ...              0   \n2      55.7         2844                 5          136  ...              0   \n3      55.9         3086                 5          131  ...              0   \n4      54.3         2395                 4          108  ...              0   \n..      ...          ...               ...          ...  ...            ...   \n154    55.5         2952                 4          141  ...              0   \n155    55.5         3049                 4          141  ...              0   \n156    55.5         3012                 6          173  ...              0   \n157    55.5         3217                 6          145  ...              0   \n158    55.5         3062                 4          141  ...              0   \n\n     engine-type_ohc  engine-type_ohcf  engine-type_ohcv  fuel-system_1bbl  \\\n0                  1                 0                 0                 0   \n1                  1                 0                 0                 0   \n2                  1                 0                 0                 0   \n3                  1                 0                 0                 0   \n4                  1                 0                 0                 0   \n..               ...               ...               ...               ...   \n154                1                 0                 0                 0   \n155                1                 0                 0                 0   \n156                0                 0                 1                 0   \n157                1                 0                 0                 0   \n158                1                 0                 0                 0   \n\n     fuel-system_2bbl  fuel-system_idi  fuel-system_mfi  fuel-system_mpfi  \\\n0                   0                0                0                 1   \n1                   0                0                0                 1   \n2                   0                0                0                 1   \n3                   0                0                0                 1   \n4                   0                0                0                 1   \n..                ...              ...              ...               ...   \n154                 0                0                0                 1   \n155                 0                0                0                 1   \n156                 0                0                0                 1   \n157                 0                1                0                 0   \n158                 0                0                0                 1   \n\n     fuel-system_spdi  \n0                   0  \n1                   0  \n2                   0  \n3                   0  \n4                   0  \n..                ...  \n154                 0  \n155                 0  \n156                 0  \n157                 0  \n158                 0  \n\n[159 rows x 60 columns]",
      "text/html": "<div>\n<style scoped>\n    .dataframe tbody tr th:only-of-type {\n        vertical-align: middle;\n    }\n\n    .dataframe tbody tr th {\n        vertical-align: top;\n    }\n\n    .dataframe thead th {\n        text-align: right;\n    }\n</style>\n<table border=\"1\" class=\"dataframe\">\n  <thead>\n    <tr style=\"text-align: right;\">\n      <th></th>\n      <th>symboling</th>\n      <th>normalized-losses</th>\n      <th>num-of-doors</th>\n      <th>wheel-base</th>\n      <th>length</th>\n      <th>width</th>\n      <th>height</th>\n      <th>curb-weight</th>\n      <th>num-of-cylinders</th>\n      <th>engine-size</th>\n      <th>...</th>\n      <th>engine-type_l</th>\n      <th>engine-type_ohc</th>\n      <th>engine-type_ohcf</th>\n      <th>engine-type_ohcv</th>\n      <th>fuel-system_1bbl</th>\n      <th>fuel-system_2bbl</th>\n      <th>fuel-system_idi</th>\n      <th>fuel-system_mfi</th>\n      <th>fuel-system_mpfi</th>\n      <th>fuel-system_spdi</th>\n    </tr>\n  </thead>\n  <tbody>\n    <tr>\n      <th>0</th>\n      <td>2</td>\n      <td>164.0</td>\n      <td>4.0</td>\n      <td>99.8</td>\n      <td>176.6</td>\n      <td>66.2</td>\n      <td>54.3</td>\n      <td>2337</td>\n      <td>4</td>\n      <td>109</td>\n      <td>...</td>\n      <td>0</td>\n      <td>1</td>\n      <td>0</td>\n      <td>0</td>\n      <td>0</td>\n      <td>0</td>\n      <td>0</td>\n      <td>0</td>\n      <td>1</td>\n      <td>0</td>\n    </tr>\n    <tr>\n      <th>1</th>\n      <td>2</td>\n      <td>164.0</td>\n      <td>4.0</td>\n      <td>99.4</td>\n      <td>176.6</td>\n      <td>66.4</td>\n      <td>54.3</td>\n      <td>2824</td>\n      <td>5</td>\n      <td>136</td>\n      <td>...</td>\n      <td>0</td>\n      <td>1</td>\n      <td>0</td>\n      <td>0</td>\n      <td>0</td>\n      <td>0</td>\n      <td>0</td>\n      <td>0</td>\n      <td>1</td>\n      <td>0</td>\n    </tr>\n    <tr>\n      <th>2</th>\n      <td>1</td>\n      <td>158.0</td>\n      <td>4.0</td>\n      <td>105.8</td>\n      <td>192.7</td>\n      <td>71.4</td>\n      <td>55.7</td>\n      <td>2844</td>\n      <td>5</td>\n      <td>136</td>\n      <td>...</td>\n      <td>0</td>\n      <td>1</td>\n      <td>0</td>\n      <td>0</td>\n      <td>0</td>\n      <td>0</td>\n      <td>0</td>\n      <td>0</td>\n      <td>1</td>\n      <td>0</td>\n    </tr>\n    <tr>\n      <th>3</th>\n      <td>1</td>\n      <td>158.0</td>\n      <td>4.0</td>\n      <td>105.8</td>\n      <td>192.7</td>\n      <td>71.4</td>\n      <td>55.9</td>\n      <td>3086</td>\n      <td>5</td>\n      <td>131</td>\n      <td>...</td>\n      <td>0</td>\n      <td>1</td>\n      <td>0</td>\n      <td>0</td>\n      <td>0</td>\n      <td>0</td>\n      <td>0</td>\n      <td>0</td>\n      <td>1</td>\n      <td>0</td>\n    </tr>\n    <tr>\n      <th>4</th>\n      <td>2</td>\n      <td>192.0</td>\n      <td>2.0</td>\n      <td>101.2</td>\n      <td>176.8</td>\n      <td>64.8</td>\n      <td>54.3</td>\n      <td>2395</td>\n      <td>4</td>\n      <td>108</td>\n      <td>...</td>\n      <td>0</td>\n      <td>1</td>\n      <td>0</td>\n      <td>0</td>\n      <td>0</td>\n      <td>0</td>\n      <td>0</td>\n      <td>0</td>\n      <td>1</td>\n      <td>0</td>\n    </tr>\n    <tr>\n      <th>...</th>\n      <td>...</td>\n      <td>...</td>\n      <td>...</td>\n      <td>...</td>\n      <td>...</td>\n      <td>...</td>\n      <td>...</td>\n      <td>...</td>\n      <td>...</td>\n      <td>...</td>\n      <td>...</td>\n      <td>...</td>\n      <td>...</td>\n      <td>...</td>\n      <td>...</td>\n      <td>...</td>\n      <td>...</td>\n      <td>...</td>\n      <td>...</td>\n      <td>...</td>\n      <td>...</td>\n    </tr>\n    <tr>\n      <th>154</th>\n      <td>-1</td>\n      <td>95.0</td>\n      <td>4.0</td>\n      <td>109.1</td>\n      <td>188.8</td>\n      <td>68.9</td>\n      <td>55.5</td>\n      <td>2952</td>\n      <td>4</td>\n      <td>141</td>\n      <td>...</td>\n      <td>0</td>\n      <td>1</td>\n      <td>0</td>\n      <td>0</td>\n      <td>0</td>\n      <td>0</td>\n      <td>0</td>\n      <td>0</td>\n      <td>1</td>\n      <td>0</td>\n    </tr>\n    <tr>\n      <th>155</th>\n      <td>-1</td>\n      <td>95.0</td>\n      <td>4.0</td>\n      <td>109.1</td>\n      <td>188.8</td>\n      <td>68.8</td>\n      <td>55.5</td>\n      <td>3049</td>\n      <td>4</td>\n      <td>141</td>\n      <td>...</td>\n      <td>0</td>\n      <td>1</td>\n      <td>0</td>\n      <td>0</td>\n      <td>0</td>\n      <td>0</td>\n      <td>0</td>\n      <td>0</td>\n      <td>1</td>\n      <td>0</td>\n    </tr>\n    <tr>\n      <th>156</th>\n      <td>-1</td>\n      <td>95.0</td>\n      <td>4.0</td>\n      <td>109.1</td>\n      <td>188.8</td>\n      <td>68.9</td>\n      <td>55.5</td>\n      <td>3012</td>\n      <td>6</td>\n      <td>173</td>\n      <td>...</td>\n      <td>0</td>\n      <td>0</td>\n      <td>0</td>\n      <td>1</td>\n      <td>0</td>\n      <td>0</td>\n      <td>0</td>\n      <td>0</td>\n      <td>1</td>\n      <td>0</td>\n    </tr>\n    <tr>\n      <th>157</th>\n      <td>-1</td>\n      <td>95.0</td>\n      <td>4.0</td>\n      <td>109.1</td>\n      <td>188.8</td>\n      <td>68.9</td>\n      <td>55.5</td>\n      <td>3217</td>\n      <td>6</td>\n      <td>145</td>\n      <td>...</td>\n      <td>0</td>\n      <td>1</td>\n      <td>0</td>\n      <td>0</td>\n      <td>0</td>\n      <td>0</td>\n      <td>1</td>\n      <td>0</td>\n      <td>0</td>\n      <td>0</td>\n    </tr>\n    <tr>\n      <th>158</th>\n      <td>-1</td>\n      <td>95.0</td>\n      <td>4.0</td>\n      <td>109.1</td>\n      <td>188.8</td>\n      <td>68.9</td>\n      <td>55.5</td>\n      <td>3062</td>\n      <td>4</td>\n      <td>141</td>\n      <td>...</td>\n      <td>0</td>\n      <td>1</td>\n      <td>0</td>\n      <td>0</td>\n      <td>0</td>\n      <td>0</td>\n      <td>0</td>\n      <td>0</td>\n      <td>1</td>\n      <td>0</td>\n    </tr>\n  </tbody>\n</table>\n<p>159 rows × 60 columns</p>\n</div>"
     },
     "execution_count": 3,
     "metadata": {},
     "output_type": "execute_result"
    }
   ],
   "source": [
    "data.info()\n",
    "data"
   ],
   "metadata": {
    "collapsed": false,
    "pycharm": {
     "name": "#%%\n"
    }
   }
  },
  {
   "cell_type": "markdown",
   "source": [
    "Выделим вектор исследуемого признака и матрицу объект-признак"
   ],
   "metadata": {
    "collapsed": false,
    "pycharm": {
     "name": "#%% md\n"
    }
   }
  },
  {
   "cell_type": "code",
   "execution_count": 4,
   "outputs": [
    {
     "data": {
      "text/plain": "0      164.0\n1      164.0\n2      158.0\n3      158.0\n4      192.0\n       ...  \n154     95.0\n155     95.0\n156     95.0\n157     95.0\n158     95.0\nName: normalized-losses, Length: 159, dtype: float64"
     },
     "execution_count": 4,
     "metadata": {},
     "output_type": "execute_result"
    }
   ],
   "source": [
    "y = data['normalized-losses']\n",
    "y"
   ],
   "metadata": {
    "collapsed": false,
    "pycharm": {
     "name": "#%%\n"
    }
   }
  },
  {
   "cell_type": "code",
   "execution_count": 5,
   "outputs": [
    {
     "data": {
      "text/plain": "     symboling  num-of-doors  wheel-base  length  width  height  curb-weight  \\\n0            2           4.0        99.8   176.6   66.2    54.3         2337   \n1            2           4.0        99.4   176.6   66.4    54.3         2824   \n2            1           4.0       105.8   192.7   71.4    55.7         2844   \n3            1           4.0       105.8   192.7   71.4    55.9         3086   \n4            2           2.0       101.2   176.8   64.8    54.3         2395   \n..         ...           ...         ...     ...    ...     ...          ...   \n154         -1           4.0       109.1   188.8   68.9    55.5         2952   \n155         -1           4.0       109.1   188.8   68.8    55.5         3049   \n156         -1           4.0       109.1   188.8   68.9    55.5         3012   \n157         -1           4.0       109.1   188.8   68.9    55.5         3217   \n158         -1           4.0       109.1   188.8   68.9    55.5         3062   \n\n     num-of-cylinders  engine-size  bore  ...  engine-type_dohc  \\\n0                   4          109  3.19  ...                 0   \n1                   5          136  3.19  ...                 0   \n2                   5          136  3.19  ...                 0   \n3                   5          131  3.13  ...                 0   \n4                   4          108  3.50  ...                 0   \n..                ...          ...   ...  ...               ...   \n154                 4          141  3.78  ...                 0   \n155                 4          141  3.78  ...                 0   \n156                 6          173  3.58  ...                 0   \n157                 6          145  3.01  ...                 0   \n158                 4          141  3.78  ...                 0   \n\n     engine-type_l  engine-type_ohc  engine-type_ohcf  engine-type_ohcv  \\\n0                0                1                 0                 0   \n1                0                1                 0                 0   \n2                0                1                 0                 0   \n3                0                1                 0                 0   \n4                0                1                 0                 0   \n..             ...              ...               ...               ...   \n154              0                1                 0                 0   \n155              0                1                 0                 0   \n156              0                0                 0                 1   \n157              0                1                 0                 0   \n158              0                1                 0                 0   \n\n     fuel-system_1bbl  fuel-system_2bbl  fuel-system_idi  fuel-system_mfi  \\\n0                   0                 0                0                0   \n1                   0                 0                0                0   \n2                   0                 0                0                0   \n3                   0                 0                0                0   \n4                   0                 0                0                0   \n..                ...               ...              ...              ...   \n154                 0                 0                0                0   \n155                 0                 0                0                0   \n156                 0                 0                0                0   \n157                 0                 0                1                0   \n158                 0                 0                0                0   \n\n     fuel-system_mpfi  \n0                   1  \n1                   1  \n2                   1  \n3                   1  \n4                   1  \n..                ...  \n154                 1  \n155                 1  \n156                 1  \n157                 0  \n158                 1  \n\n[159 rows x 58 columns]",
      "text/html": "<div>\n<style scoped>\n    .dataframe tbody tr th:only-of-type {\n        vertical-align: middle;\n    }\n\n    .dataframe tbody tr th {\n        vertical-align: top;\n    }\n\n    .dataframe thead th {\n        text-align: right;\n    }\n</style>\n<table border=\"1\" class=\"dataframe\">\n  <thead>\n    <tr style=\"text-align: right;\">\n      <th></th>\n      <th>symboling</th>\n      <th>num-of-doors</th>\n      <th>wheel-base</th>\n      <th>length</th>\n      <th>width</th>\n      <th>height</th>\n      <th>curb-weight</th>\n      <th>num-of-cylinders</th>\n      <th>engine-size</th>\n      <th>bore</th>\n      <th>...</th>\n      <th>engine-type_dohc</th>\n      <th>engine-type_l</th>\n      <th>engine-type_ohc</th>\n      <th>engine-type_ohcf</th>\n      <th>engine-type_ohcv</th>\n      <th>fuel-system_1bbl</th>\n      <th>fuel-system_2bbl</th>\n      <th>fuel-system_idi</th>\n      <th>fuel-system_mfi</th>\n      <th>fuel-system_mpfi</th>\n    </tr>\n  </thead>\n  <tbody>\n    <tr>\n      <th>0</th>\n      <td>2</td>\n      <td>4.0</td>\n      <td>99.8</td>\n      <td>176.6</td>\n      <td>66.2</td>\n      <td>54.3</td>\n      <td>2337</td>\n      <td>4</td>\n      <td>109</td>\n      <td>3.19</td>\n      <td>...</td>\n      <td>0</td>\n      <td>0</td>\n      <td>1</td>\n      <td>0</td>\n      <td>0</td>\n      <td>0</td>\n      <td>0</td>\n      <td>0</td>\n      <td>0</td>\n      <td>1</td>\n    </tr>\n    <tr>\n      <th>1</th>\n      <td>2</td>\n      <td>4.0</td>\n      <td>99.4</td>\n      <td>176.6</td>\n      <td>66.4</td>\n      <td>54.3</td>\n      <td>2824</td>\n      <td>5</td>\n      <td>136</td>\n      <td>3.19</td>\n      <td>...</td>\n      <td>0</td>\n      <td>0</td>\n      <td>1</td>\n      <td>0</td>\n      <td>0</td>\n      <td>0</td>\n      <td>0</td>\n      <td>0</td>\n      <td>0</td>\n      <td>1</td>\n    </tr>\n    <tr>\n      <th>2</th>\n      <td>1</td>\n      <td>4.0</td>\n      <td>105.8</td>\n      <td>192.7</td>\n      <td>71.4</td>\n      <td>55.7</td>\n      <td>2844</td>\n      <td>5</td>\n      <td>136</td>\n      <td>3.19</td>\n      <td>...</td>\n      <td>0</td>\n      <td>0</td>\n      <td>1</td>\n      <td>0</td>\n      <td>0</td>\n      <td>0</td>\n      <td>0</td>\n      <td>0</td>\n      <td>0</td>\n      <td>1</td>\n    </tr>\n    <tr>\n      <th>3</th>\n      <td>1</td>\n      <td>4.0</td>\n      <td>105.8</td>\n      <td>192.7</td>\n      <td>71.4</td>\n      <td>55.9</td>\n      <td>3086</td>\n      <td>5</td>\n      <td>131</td>\n      <td>3.13</td>\n      <td>...</td>\n      <td>0</td>\n      <td>0</td>\n      <td>1</td>\n      <td>0</td>\n      <td>0</td>\n      <td>0</td>\n      <td>0</td>\n      <td>0</td>\n      <td>0</td>\n      <td>1</td>\n    </tr>\n    <tr>\n      <th>4</th>\n      <td>2</td>\n      <td>2.0</td>\n      <td>101.2</td>\n      <td>176.8</td>\n      <td>64.8</td>\n      <td>54.3</td>\n      <td>2395</td>\n      <td>4</td>\n      <td>108</td>\n      <td>3.50</td>\n      <td>...</td>\n      <td>0</td>\n      <td>0</td>\n      <td>1</td>\n      <td>0</td>\n      <td>0</td>\n      <td>0</td>\n      <td>0</td>\n      <td>0</td>\n      <td>0</td>\n      <td>1</td>\n    </tr>\n    <tr>\n      <th>...</th>\n      <td>...</td>\n      <td>...</td>\n      <td>...</td>\n      <td>...</td>\n      <td>...</td>\n      <td>...</td>\n      <td>...</td>\n      <td>...</td>\n      <td>...</td>\n      <td>...</td>\n      <td>...</td>\n      <td>...</td>\n      <td>...</td>\n      <td>...</td>\n      <td>...</td>\n      <td>...</td>\n      <td>...</td>\n      <td>...</td>\n      <td>...</td>\n      <td>...</td>\n      <td>...</td>\n    </tr>\n    <tr>\n      <th>154</th>\n      <td>-1</td>\n      <td>4.0</td>\n      <td>109.1</td>\n      <td>188.8</td>\n      <td>68.9</td>\n      <td>55.5</td>\n      <td>2952</td>\n      <td>4</td>\n      <td>141</td>\n      <td>3.78</td>\n      <td>...</td>\n      <td>0</td>\n      <td>0</td>\n      <td>1</td>\n      <td>0</td>\n      <td>0</td>\n      <td>0</td>\n      <td>0</td>\n      <td>0</td>\n      <td>0</td>\n      <td>1</td>\n    </tr>\n    <tr>\n      <th>155</th>\n      <td>-1</td>\n      <td>4.0</td>\n      <td>109.1</td>\n      <td>188.8</td>\n      <td>68.8</td>\n      <td>55.5</td>\n      <td>3049</td>\n      <td>4</td>\n      <td>141</td>\n      <td>3.78</td>\n      <td>...</td>\n      <td>0</td>\n      <td>0</td>\n      <td>1</td>\n      <td>0</td>\n      <td>0</td>\n      <td>0</td>\n      <td>0</td>\n      <td>0</td>\n      <td>0</td>\n      <td>1</td>\n    </tr>\n    <tr>\n      <th>156</th>\n      <td>-1</td>\n      <td>4.0</td>\n      <td>109.1</td>\n      <td>188.8</td>\n      <td>68.9</td>\n      <td>55.5</td>\n      <td>3012</td>\n      <td>6</td>\n      <td>173</td>\n      <td>3.58</td>\n      <td>...</td>\n      <td>0</td>\n      <td>0</td>\n      <td>0</td>\n      <td>0</td>\n      <td>1</td>\n      <td>0</td>\n      <td>0</td>\n      <td>0</td>\n      <td>0</td>\n      <td>1</td>\n    </tr>\n    <tr>\n      <th>157</th>\n      <td>-1</td>\n      <td>4.0</td>\n      <td>109.1</td>\n      <td>188.8</td>\n      <td>68.9</td>\n      <td>55.5</td>\n      <td>3217</td>\n      <td>6</td>\n      <td>145</td>\n      <td>3.01</td>\n      <td>...</td>\n      <td>0</td>\n      <td>0</td>\n      <td>1</td>\n      <td>0</td>\n      <td>0</td>\n      <td>0</td>\n      <td>0</td>\n      <td>1</td>\n      <td>0</td>\n      <td>0</td>\n    </tr>\n    <tr>\n      <th>158</th>\n      <td>-1</td>\n      <td>4.0</td>\n      <td>109.1</td>\n      <td>188.8</td>\n      <td>68.9</td>\n      <td>55.5</td>\n      <td>3062</td>\n      <td>4</td>\n      <td>141</td>\n      <td>3.78</td>\n      <td>...</td>\n      <td>0</td>\n      <td>0</td>\n      <td>1</td>\n      <td>0</td>\n      <td>0</td>\n      <td>0</td>\n      <td>0</td>\n      <td>0</td>\n      <td>0</td>\n      <td>1</td>\n    </tr>\n  </tbody>\n</table>\n<p>159 rows × 58 columns</p>\n</div>"
     },
     "execution_count": 5,
     "metadata": {},
     "output_type": "execute_result"
    }
   ],
   "source": [
    "cols = data.columns[:1].append(data.columns[2:59])\n",
    "X = data[cols]\n",
    "X"
   ],
   "metadata": {
    "collapsed": false,
    "pycharm": {
     "name": "#%%\n"
    }
   }
  },
  {
   "cell_type": "markdown",
   "source": [
    "Разбиваем выборку"
   ],
   "metadata": {
    "collapsed": false,
    "pycharm": {
     "name": "#%% md\n"
    }
   }
  },
  {
   "cell_type": "code",
   "execution_count": 6,
   "outputs": [],
   "source": [
    "from sklearn.model_selection import train_test_split\n",
    "X_train, X_test, y_train, y_test = train_test_split(X, y, test_size=0.20)"
   ],
   "metadata": {
    "collapsed": false,
    "pycharm": {
     "name": "#%%\n"
    }
   }
  },
  {
   "cell_type": "code",
   "execution_count": 7,
   "outputs": [],
   "source": [
    "from sklearn.preprocessing import StandardScaler\n",
    "\n",
    "scaler = StandardScaler()\n",
    "scaler.fit(X_train)\n",
    "\n",
    "X_train = scaler.transform(X_train)\n",
    "X_test = scaler.transform(X_test)"
   ],
   "metadata": {
    "collapsed": false,
    "pycharm": {
     "name": "#%%\n"
    }
   }
  },
  {
   "cell_type": "code",
   "execution_count": 8,
   "outputs": [],
   "source": [
    "from sklearn.metrics import r2_score, mean_squared_error, mean_absolute_error"
   ],
   "metadata": {
    "collapsed": false,
    "pycharm": {
     "name": "#%%\n"
    }
   }
  },
  {
   "cell_type": "markdown",
   "source": [
    "# Линейная регрессия"
   ],
   "metadata": {
    "collapsed": false,
    "pycharm": {
     "name": "#%% md\n"
    }
   }
  },
  {
   "cell_type": "code",
   "execution_count": 9,
   "outputs": [],
   "source": [
    "from sklearn.linear_model import LinearRegression"
   ],
   "metadata": {
    "collapsed": false,
    "pycharm": {
     "name": "#%%\n"
    }
   }
  },
  {
   "cell_type": "code",
   "execution_count": 10,
   "outputs": [],
   "source": [
    "lr = LinearRegression()\n",
    "lr.fit(X_train, y_train)\n",
    "y_pred_lr = lr.predict(X_test)"
   ],
   "metadata": {
    "collapsed": false,
    "pycharm": {
     "name": "#%%\n"
    }
   }
  },
  {
   "cell_type": "markdown",
   "source": [
    "Оценим качество модели"
   ],
   "metadata": {
    "collapsed": false,
    "pycharm": {
     "name": "#%% md\n"
    }
   }
  },
  {
   "cell_type": "code",
   "execution_count": 11,
   "outputs": [
    {
     "name": "stdout",
     "output_type": "stream",
     "text": [
      "-0.03596314627605546\n",
      "1066.5068604842786\n",
      "32.65741662294001\n",
      "22.416105659170462\n"
     ]
    }
   ],
   "source": [
    "print(r2_score(y_test, y_pred_lr))\n",
    "print(mean_squared_error(y_test, y_pred_lr))\n",
    "print(mean_squared_error(y_test, y_pred_lr, squared=False))\n",
    "print(mean_absolute_error(y_test, y_pred_lr))"
   ],
   "metadata": {
    "collapsed": false,
    "pycharm": {
     "name": "#%%\n"
    }
   }
  },
  {
   "cell_type": "markdown",
   "source": [
    "# Регрессия дерева решений"
   ],
   "metadata": {
    "collapsed": false
   }
  },
  {
   "cell_type": "code",
   "execution_count": 12,
   "outputs": [],
   "source": [
    "from sklearn.tree import DecisionTreeRegressor"
   ],
   "metadata": {
    "collapsed": false,
    "pycharm": {
     "name": "#%%\n"
    }
   }
  },
  {
   "cell_type": "code",
   "execution_count": 13,
   "outputs": [],
   "source": [
    "dtr = DecisionTreeRegressor()\n",
    "dtr.fit(X_train, y_train)\n",
    "y_pred_dtr = dtr.predict(X_test)"
   ],
   "metadata": {
    "collapsed": false,
    "pycharm": {
     "name": "#%%\n"
    }
   }
  },
  {
   "cell_type": "markdown",
   "source": [
    "Оценим качество модели"
   ],
   "metadata": {
    "collapsed": false
   }
  },
  {
   "cell_type": "code",
   "execution_count": 14,
   "outputs": [
    {
     "name": "stdout",
     "output_type": "stream",
     "text": [
      "0.7241941925135009\n",
      "283.9375\n",
      "16.850445097978866\n",
      "9.25\n"
     ]
    }
   ],
   "source": [
    "print(r2_score(y_test, y_pred_dtr))\n",
    "print(mean_squared_error(y_test, y_pred_dtr))\n",
    "print(mean_squared_error(y_test, y_pred_dtr, squared=False))\n",
    "print(mean_absolute_error(y_test, y_pred_dtr))"
   ],
   "metadata": {
    "collapsed": false,
    "pycharm": {
     "name": "#%%\n"
    }
   }
  },
  {
   "cell_type": "markdown",
   "source": [
    "# LASSO"
   ],
   "metadata": {
    "collapsed": false
   }
  },
  {
   "cell_type": "code",
   "execution_count": 15,
   "outputs": [],
   "source": [
    "from sklearn.linear_model import Lasso"
   ],
   "metadata": {
    "collapsed": false,
    "pycharm": {
     "name": "#%%\n"
    }
   }
  },
  {
   "cell_type": "code",
   "execution_count": 16,
   "outputs": [],
   "source": [
    "lasso = Lasso()\n",
    "lasso.fit(X_train, y_train)\n",
    "y_pred_lasso = lasso.predict(X_test)"
   ],
   "metadata": {
    "collapsed": false,
    "pycharm": {
     "name": "#%%\n"
    }
   }
  },
  {
   "cell_type": "markdown",
   "source": [
    "Оценим качество модели"
   ],
   "metadata": {
    "collapsed": false
   }
  },
  {
   "cell_type": "code",
   "execution_count": 17,
   "outputs": [
    {
     "name": "stdout",
     "output_type": "stream",
     "text": [
      "0.7181912733311593\n",
      "290.11740564038263\n",
      "17.03283316540095\n",
      "13.89969104427777\n"
     ]
    }
   ],
   "source": [
    "print(r2_score(y_test, y_pred_lasso))\n",
    "print(mean_squared_error(y_test, y_pred_lasso))\n",
    "print(mean_squared_error(y_test, y_pred_lasso, squared=False))\n",
    "print(mean_absolute_error(y_test, y_pred_lasso))"
   ],
   "metadata": {
    "collapsed": false,
    "pycharm": {
     "name": "#%%\n"
    }
   }
  },
  {
   "cell_type": "markdown",
   "source": [
    "#  Гребневая регрессия"
   ],
   "metadata": {
    "collapsed": false
   }
  },
  {
   "cell_type": "code",
   "execution_count": 18,
   "outputs": [],
   "source": [
    "from sklearn.linear_model import Ridge"
   ],
   "metadata": {
    "collapsed": false,
    "pycharm": {
     "name": "#%%\n"
    }
   }
  },
  {
   "cell_type": "code",
   "execution_count": 19,
   "outputs": [],
   "source": [
    "ridge = Ridge()\n",
    "ridge.fit(X_train,y_train)\n",
    "y_pred_ridge = ridge.predict(X_test)"
   ],
   "metadata": {
    "collapsed": false,
    "pycharm": {
     "name": "#%%\n"
    }
   }
  },
  {
   "cell_type": "markdown",
   "source": [
    "Оценим качество модели"
   ],
   "metadata": {
    "collapsed": false
   }
  },
  {
   "cell_type": "code",
   "execution_count": 20,
   "outputs": [
    {
     "name": "stdout",
     "output_type": "stream",
     "text": [
      "0.594014696625432\n",
      "417.9551298337296\n",
      "20.44395093502549\n",
      "15.898974885481636\n"
     ]
    }
   ],
   "source": [
    "print(r2_score(y_test, y_pred_ridge))\n",
    "print(mean_squared_error(y_test, y_pred_ridge))\n",
    "print(mean_squared_error(y_test, y_pred_ridge, squared=False))\n",
    "print(mean_absolute_error(y_test, y_pred_ridge))"
   ],
   "metadata": {
    "collapsed": false,
    "pycharm": {
     "name": "#%%\n"
    }
   }
  },
  {
   "cell_type": "markdown",
   "source": [
    "#  Elastic Net регрессия"
   ],
   "metadata": {
    "collapsed": false,
    "pycharm": {
     "name": "#%% md\n"
    }
   }
  },
  {
   "cell_type": "code",
   "execution_count": 21,
   "outputs": [],
   "source": [
    "from sklearn.linear_model import ElasticNet"
   ],
   "metadata": {
    "collapsed": false,
    "pycharm": {
     "name": "#%%\n"
    }
   }
  },
  {
   "cell_type": "code",
   "execution_count": 22,
   "outputs": [],
   "source": [
    "en = ElasticNet()\n",
    "en.fit(X_train, y_train)\n",
    "y_pred_en = en.predict(X_test)"
   ],
   "metadata": {
    "collapsed": false,
    "pycharm": {
     "name": "#%%\n"
    }
   }
  },
  {
   "cell_type": "markdown",
   "source": [
    "Оценим качество модели"
   ],
   "metadata": {
    "collapsed": false
   }
  },
  {
   "cell_type": "code",
   "execution_count": 23,
   "outputs": [
    {
     "name": "stdout",
     "output_type": "stream",
     "text": [
      "0.6982802911197683\n",
      "310.61543127359414\n",
      "17.62428526986539\n",
      "14.89534136285064\n"
     ]
    }
   ],
   "source": [
    "print(r2_score(y_test, y_pred_en))\n",
    "print(mean_squared_error(y_test, y_pred_en))\n",
    "print(mean_squared_error(y_test, y_pred_en, squared=False))\n",
    "print(mean_absolute_error(y_test, y_pred_en))"
   ],
   "metadata": {
    "collapsed": false,
    "pycharm": {
     "name": "#%%\n"
    }
   }
  },
  {
   "cell_type": "markdown",
   "source": [
    "# Вывод\n",
    "Лучший результат показала регрессия дерева решений"
   ],
   "metadata": {
    "collapsed": false,
    "pycharm": {
     "name": "#%% md\n"
    }
   }
  }
 ],
 "metadata": {
  "kernelspec": {
   "display_name": "Python 3",
   "language": "python",
   "name": "python3"
  },
  "language_info": {
   "codemirror_mode": {
    "name": "ipython",
    "version": 2
   },
   "file_extension": ".py",
   "mimetype": "text/x-python",
   "name": "python",
   "nbconvert_exporter": "python",
   "pygments_lexer": "ipython2",
   "version": "2.7.6"
  }
 },
 "nbformat": 4,
 "nbformat_minor": 0
}