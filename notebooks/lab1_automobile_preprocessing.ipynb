{
 "cells": [
  {
   "cell_type": "markdown",
   "source": [
    "# Предобработка датасета automobile"
   ],
   "metadata": {
    "collapsed": false,
    "pycharm": {
     "name": "#%% md\n"
    }
   }
  },
  {
   "cell_type": "markdown",
   "source": [
    "Загрузка библиотек"
   ],
   "metadata": {
    "collapsed": false
   }
  },
  {
   "cell_type": "code",
   "execution_count": 1,
   "outputs": [],
   "source": [
    "import pandas as pd"
   ],
   "metadata": {
    "collapsed": false,
    "pycharm": {
     "name": "#%%\n"
    }
   }
  },
  {
   "cell_type": "markdown",
   "source": [
    "Загрузка датасета"
   ],
   "metadata": {
    "collapsed": false,
    "pycharm": {
     "name": "#%% md\n"
    }
   }
  },
  {
   "cell_type": "code",
   "execution_count": 2,
   "outputs": [
    {
     "data": {
      "text/plain": "     symboling normalized-losses       vendor fuel-type aspiration  \\\n0            3                 ?  alfa-romero       gas        std   \n1            3                 ?  alfa-romero       gas        std   \n2            1                 ?  alfa-romero       gas        std   \n3            2               164         audi       gas        std   \n4            2               164         audi       gas        std   \n..         ...               ...          ...       ...        ...   \n200         -1                95        volvo       gas        std   \n201         -1                95        volvo       gas      turbo   \n202         -1                95        volvo       gas        std   \n203         -1                95        volvo    diesel      turbo   \n204         -1                95        volvo       gas      turbo   \n\n    num-of-doors   body-style drive-wheels engine-location  wheel-base  ...  \\\n0            two  convertible          rwd           front        88.6  ...   \n1            two  convertible          rwd           front        88.6  ...   \n2            two    hatchback          rwd           front        94.5  ...   \n3           four        sedan          fwd           front        99.8  ...   \n4           four        sedan          4wd           front        99.4  ...   \n..           ...          ...          ...             ...         ...  ...   \n200         four        sedan          rwd           front       109.1  ...   \n201         four        sedan          rwd           front       109.1  ...   \n202         four        sedan          rwd           front       109.1  ...   \n203         four        sedan          rwd           front       109.1  ...   \n204         four        sedan          rwd           front       109.1  ...   \n\n     engine-size  fuel-system  bore  stroke compression-ratio horsepower  \\\n0            130         mpfi  3.47    2.68               9.0        111   \n1            130         mpfi  3.47    2.68               9.0        111   \n2            152         mpfi  2.68    3.47               9.0        154   \n3            109         mpfi  3.19    3.40              10.0        102   \n4            136         mpfi  3.19    3.40               8.0        115   \n..           ...          ...   ...     ...               ...        ...   \n200          141         mpfi  3.78    3.15               9.5        114   \n201          141         mpfi  3.78    3.15               8.7        160   \n202          173         mpfi  3.58    2.87               8.8        134   \n203          145          idi  3.01    3.40              23.0        106   \n204          141         mpfi  3.78    3.15               9.5        114   \n\n     peak-rpm city-mpg highway-mpg  price  \n0        5000       21          27  13495  \n1        5000       21          27  16500  \n2        5000       19          26  16500  \n3        5500       24          30  13950  \n4        5500       18          22  17450  \n..        ...      ...         ...    ...  \n200      5400       23          28  16845  \n201      5300       19          25  19045  \n202      5500       18          23  21485  \n203      4800       26          27  22470  \n204      5400       19          25  22625  \n\n[205 rows x 26 columns]",
      "text/html": "<div>\n<style scoped>\n    .dataframe tbody tr th:only-of-type {\n        vertical-align: middle;\n    }\n\n    .dataframe tbody tr th {\n        vertical-align: top;\n    }\n\n    .dataframe thead th {\n        text-align: right;\n    }\n</style>\n<table border=\"1\" class=\"dataframe\">\n  <thead>\n    <tr style=\"text-align: right;\">\n      <th></th>\n      <th>symboling</th>\n      <th>normalized-losses</th>\n      <th>vendor</th>\n      <th>fuel-type</th>\n      <th>aspiration</th>\n      <th>num-of-doors</th>\n      <th>body-style</th>\n      <th>drive-wheels</th>\n      <th>engine-location</th>\n      <th>wheel-base</th>\n      <th>...</th>\n      <th>engine-size</th>\n      <th>fuel-system</th>\n      <th>bore</th>\n      <th>stroke</th>\n      <th>compression-ratio</th>\n      <th>horsepower</th>\n      <th>peak-rpm</th>\n      <th>city-mpg</th>\n      <th>highway-mpg</th>\n      <th>price</th>\n    </tr>\n  </thead>\n  <tbody>\n    <tr>\n      <th>0</th>\n      <td>3</td>\n      <td>?</td>\n      <td>alfa-romero</td>\n      <td>gas</td>\n      <td>std</td>\n      <td>two</td>\n      <td>convertible</td>\n      <td>rwd</td>\n      <td>front</td>\n      <td>88.6</td>\n      <td>...</td>\n      <td>130</td>\n      <td>mpfi</td>\n      <td>3.47</td>\n      <td>2.68</td>\n      <td>9.0</td>\n      <td>111</td>\n      <td>5000</td>\n      <td>21</td>\n      <td>27</td>\n      <td>13495</td>\n    </tr>\n    <tr>\n      <th>1</th>\n      <td>3</td>\n      <td>?</td>\n      <td>alfa-romero</td>\n      <td>gas</td>\n      <td>std</td>\n      <td>two</td>\n      <td>convertible</td>\n      <td>rwd</td>\n      <td>front</td>\n      <td>88.6</td>\n      <td>...</td>\n      <td>130</td>\n      <td>mpfi</td>\n      <td>3.47</td>\n      <td>2.68</td>\n      <td>9.0</td>\n      <td>111</td>\n      <td>5000</td>\n      <td>21</td>\n      <td>27</td>\n      <td>16500</td>\n    </tr>\n    <tr>\n      <th>2</th>\n      <td>1</td>\n      <td>?</td>\n      <td>alfa-romero</td>\n      <td>gas</td>\n      <td>std</td>\n      <td>two</td>\n      <td>hatchback</td>\n      <td>rwd</td>\n      <td>front</td>\n      <td>94.5</td>\n      <td>...</td>\n      <td>152</td>\n      <td>mpfi</td>\n      <td>2.68</td>\n      <td>3.47</td>\n      <td>9.0</td>\n      <td>154</td>\n      <td>5000</td>\n      <td>19</td>\n      <td>26</td>\n      <td>16500</td>\n    </tr>\n    <tr>\n      <th>3</th>\n      <td>2</td>\n      <td>164</td>\n      <td>audi</td>\n      <td>gas</td>\n      <td>std</td>\n      <td>four</td>\n      <td>sedan</td>\n      <td>fwd</td>\n      <td>front</td>\n      <td>99.8</td>\n      <td>...</td>\n      <td>109</td>\n      <td>mpfi</td>\n      <td>3.19</td>\n      <td>3.40</td>\n      <td>10.0</td>\n      <td>102</td>\n      <td>5500</td>\n      <td>24</td>\n      <td>30</td>\n      <td>13950</td>\n    </tr>\n    <tr>\n      <th>4</th>\n      <td>2</td>\n      <td>164</td>\n      <td>audi</td>\n      <td>gas</td>\n      <td>std</td>\n      <td>four</td>\n      <td>sedan</td>\n      <td>4wd</td>\n      <td>front</td>\n      <td>99.4</td>\n      <td>...</td>\n      <td>136</td>\n      <td>mpfi</td>\n      <td>3.19</td>\n      <td>3.40</td>\n      <td>8.0</td>\n      <td>115</td>\n      <td>5500</td>\n      <td>18</td>\n      <td>22</td>\n      <td>17450</td>\n    </tr>\n    <tr>\n      <th>...</th>\n      <td>...</td>\n      <td>...</td>\n      <td>...</td>\n      <td>...</td>\n      <td>...</td>\n      <td>...</td>\n      <td>...</td>\n      <td>...</td>\n      <td>...</td>\n      <td>...</td>\n      <td>...</td>\n      <td>...</td>\n      <td>...</td>\n      <td>...</td>\n      <td>...</td>\n      <td>...</td>\n      <td>...</td>\n      <td>...</td>\n      <td>...</td>\n      <td>...</td>\n      <td>...</td>\n    </tr>\n    <tr>\n      <th>200</th>\n      <td>-1</td>\n      <td>95</td>\n      <td>volvo</td>\n      <td>gas</td>\n      <td>std</td>\n      <td>four</td>\n      <td>sedan</td>\n      <td>rwd</td>\n      <td>front</td>\n      <td>109.1</td>\n      <td>...</td>\n      <td>141</td>\n      <td>mpfi</td>\n      <td>3.78</td>\n      <td>3.15</td>\n      <td>9.5</td>\n      <td>114</td>\n      <td>5400</td>\n      <td>23</td>\n      <td>28</td>\n      <td>16845</td>\n    </tr>\n    <tr>\n      <th>201</th>\n      <td>-1</td>\n      <td>95</td>\n      <td>volvo</td>\n      <td>gas</td>\n      <td>turbo</td>\n      <td>four</td>\n      <td>sedan</td>\n      <td>rwd</td>\n      <td>front</td>\n      <td>109.1</td>\n      <td>...</td>\n      <td>141</td>\n      <td>mpfi</td>\n      <td>3.78</td>\n      <td>3.15</td>\n      <td>8.7</td>\n      <td>160</td>\n      <td>5300</td>\n      <td>19</td>\n      <td>25</td>\n      <td>19045</td>\n    </tr>\n    <tr>\n      <th>202</th>\n      <td>-1</td>\n      <td>95</td>\n      <td>volvo</td>\n      <td>gas</td>\n      <td>std</td>\n      <td>four</td>\n      <td>sedan</td>\n      <td>rwd</td>\n      <td>front</td>\n      <td>109.1</td>\n      <td>...</td>\n      <td>173</td>\n      <td>mpfi</td>\n      <td>3.58</td>\n      <td>2.87</td>\n      <td>8.8</td>\n      <td>134</td>\n      <td>5500</td>\n      <td>18</td>\n      <td>23</td>\n      <td>21485</td>\n    </tr>\n    <tr>\n      <th>203</th>\n      <td>-1</td>\n      <td>95</td>\n      <td>volvo</td>\n      <td>diesel</td>\n      <td>turbo</td>\n      <td>four</td>\n      <td>sedan</td>\n      <td>rwd</td>\n      <td>front</td>\n      <td>109.1</td>\n      <td>...</td>\n      <td>145</td>\n      <td>idi</td>\n      <td>3.01</td>\n      <td>3.40</td>\n      <td>23.0</td>\n      <td>106</td>\n      <td>4800</td>\n      <td>26</td>\n      <td>27</td>\n      <td>22470</td>\n    </tr>\n    <tr>\n      <th>204</th>\n      <td>-1</td>\n      <td>95</td>\n      <td>volvo</td>\n      <td>gas</td>\n      <td>turbo</td>\n      <td>four</td>\n      <td>sedan</td>\n      <td>rwd</td>\n      <td>front</td>\n      <td>109.1</td>\n      <td>...</td>\n      <td>141</td>\n      <td>mpfi</td>\n      <td>3.78</td>\n      <td>3.15</td>\n      <td>9.5</td>\n      <td>114</td>\n      <td>5400</td>\n      <td>19</td>\n      <td>25</td>\n      <td>22625</td>\n    </tr>\n  </tbody>\n</table>\n<p>205 rows × 26 columns</p>\n</div>"
     },
     "execution_count": 2,
     "metadata": {},
     "output_type": "execute_result"
    }
   ],
   "source": [
    "data = pd.read_csv(r'../data/automobile.csv', sep = ',')\n",
    "data"
   ],
   "metadata": {
    "collapsed": false,
    "pycharm": {
     "name": "#%%\n"
    }
   }
  },
  {
   "cell_type": "code",
   "execution_count": 3,
   "outputs": [
    {
     "name": "stdout",
     "output_type": "stream",
     "text": [
      "<class 'pandas.core.frame.DataFrame'>\n",
      "RangeIndex: 205 entries, 0 to 204\n",
      "Data columns (total 26 columns):\n",
      " #   Column             Non-Null Count  Dtype  \n",
      "---  ------             --------------  -----  \n",
      " 0   symboling          205 non-null    int64  \n",
      " 1   normalized-losses  205 non-null    object \n",
      " 2   vendor             205 non-null    object \n",
      " 3   fuel-type          205 non-null    object \n",
      " 4   aspiration         205 non-null    object \n",
      " 5   num-of-doors       205 non-null    object \n",
      " 6   body-style         205 non-null    object \n",
      " 7   drive-wheels       205 non-null    object \n",
      " 8   engine-location    205 non-null    object \n",
      " 9   wheel-base         205 non-null    float64\n",
      " 10  length             205 non-null    float64\n",
      " 11  width              205 non-null    float64\n",
      " 12  height             205 non-null    float64\n",
      " 13  curb-weight        205 non-null    int64  \n",
      " 14  engine-type        205 non-null    object \n",
      " 15  num-of-cylinders   205 non-null    object \n",
      " 16  engine-size        205 non-null    int64  \n",
      " 17  fuel-system        205 non-null    object \n",
      " 18  bore               205 non-null    object \n",
      " 19  stroke             205 non-null    object \n",
      " 20  compression-ratio  205 non-null    float64\n",
      " 21  horsepower         205 non-null    object \n",
      " 22  peak-rpm           205 non-null    object \n",
      " 23  city-mpg           205 non-null    int64  \n",
      " 24  highway-mpg        205 non-null    int64  \n",
      " 25  price              205 non-null    object \n",
      "dtypes: float64(5), int64(5), object(16)\n",
      "memory usage: 41.8+ KB\n",
      "Признак: symboling, значения: {0, 1, 2, 3, -2, -1}\n",
      "Признак: normalized-losses, значения: {'102', '188', '186', '134', '89', '119', '256', '148', '83', '90', '118', '98', '128', '129', '103', '197', '192', '158', '106', '231', '168', '164', '85', '107', '104', '77', '154', '108', '74', '122', '94', '113', '115', '110', '91', '150', '87', '194', '95', '153', '142', '137', '121', '101', '81', '78', '161', '93', '?', '145', '125', '65'}\n",
      "Признак: vendor, значения: {'chevrolet', 'volvo', 'renault', 'peugot', 'saab', 'volkswagen', 'plymouth', 'porsche', 'audi', 'toyota', 'dodge', 'mercury', 'mitsubishi', 'mercedes-benz', 'jaguar', 'subaru', 'nissan', 'bmw', 'honda', 'isuzu', 'alfa-romero', 'mazda'}\n",
      "Признак: fuel-type, значения: {'gas', 'diesel'}\n",
      "Признак: aspiration, значения: {'std', 'turbo'}\n",
      "Признак: num-of-doors, значения: {'two', 'four', '?'}\n",
      "Признак: body-style, значения: {'sedan', 'convertible', 'wagon', 'hatchback', 'hardtop'}\n",
      "Признак: drive-wheels, значения: {'fwd', 'rwd', '4wd'}\n",
      "Признак: engine-location, значения: {'rear', 'front'}\n",
      "Признак: wheel-base, значения: {102.4, 102.9, 104.5, 104.3, 97.0, 95.1, 100.4, 97.3, 107.9, 108.0, 95.7, 109.1, 96.6, 96.1, 95.3, 96.9, 93.1, 93.0, 86.6, 96.3, 88.6, 88.4, 89.5, 91.3, 93.3, 93.7, 94.3, 94.5, 96.5, 96.0, 95.9, 99.8, 99.4, 99.5, 101.2, 103.5, 103.3, 105.8, 102.0, 98.8, 104.9, 106.7, 110.0, 102.7, 112.0, 113.0, 97.2, 115.6, 99.2, 114.2, 98.4, 99.1, 120.9}\n",
      "Признак: length, значения: {180.2, 141.1, 181.5, 144.6, 150.0, 183.5, 183.1, 155.9, 156.9, 157.3, 158.8, 157.1, 159.1, 157.9, 162.4, 163.4, 158.7, 165.3, 166.8, 167.5, 168.8, 169.1, 170.7, 171.2, 172.6, 173.2, 174.6, 175.4, 176.6, 177.3, 178.2, 176.8, 177.8, 175.0, 180.3, 178.4, 181.7, 184.6, 178.5, 187.5, 186.7, 189.0, 190.9, 191.7, 192.7, 193.8, 165.6, 186.6, 166.3, 197.0, 198.9, 199.6, 199.2, 167.3, 202.6, 168.9, 168.7, 208.1, 169.0, 169.7, 170.2, 159.3, 171.7, 172.4, 172.0, 187.8, 173.0, 173.4, 173.5, 173.6, 175.7, 175.6, 176.2, 165.7, 188.8}\n",
      "Признак: width, значения: {63.6, 64.4, 65.4, 65.6, 61.8, 60.3, 63.8, 62.5, 63.9, 64.1, 65.5, 66.2, 66.4, 66.3, 67.9, 64.8, 71.4, 66.9, 70.9, 64.6, 64.0, 65.2, 66.0, 69.6, 70.6, 65.7, 66.5, 66.1, 66.6, 67.7, 67.2, 68.0, 68.4, 68.3, 68.9, 68.8, 70.3, 70.5, 63.4, 71.7, 65.0, 72.0, 72.3, 64.2}\n",
      "Признак: height, значения: {51.0, 51.4, 51.6, 52.6, 52.8, 52.5, 53.2, 53.5, 53.0, 53.9, 54.1, 54.4, 54.9, 54.8, 54.7, 55.4, 55.1, 55.2, 55.6, 56.7, 56.1, 56.0, 56.2, 57.5, 47.8, 48.8, 49.6, 50.8, 50.6, 52.4, 53.3, 53.1, 54.3, 56.3, 55.7, 58.3, 59.8, 55.9, 52.0, 53.7, 54.5, 55.5, 56.5, 58.7, 59.1, 50.5, 49.7, 49.4, 50.2}\n",
      "Признак: curb-weight, значения: {2050, 3075, 2563, 3086, 2579, 3095, 2081, 3110, 2094, 3130, 3131, 2109, 3139, 2120, 2122, 3151, 2128, 3157, 2650, 2140, 2145, 2658, 3685, 2661, 2670, 2679, 2169, 3197, 3715, 2695, 2700, 2190, 2191, 3217, 2707, 2710, 2714, 3740, 2204, 3230, 2209, 2212, 3750, 2221, 2734, 1713, 3252, 3770, 2236, 2240, 2756, 2758, 2765, 2254, 3285, 2261, 2264, 2265, 2778, 3296, 2275, 2280, 2800, 2289, 2290, 2293, 2808, 2811, 2300, 2302, 2304, 2818, 2823, 2824, 2319, 2833, 2324, 2326, 2328, 1819, 2844, 2847, 2337, 2340, 3366, 1837, 3380, 3900, 2365, 2370, 2372, 2380, 2385, 1874, 1876, 2395, 2910, 2912, 1889, 1890, 2403, 2405, 3430, 2921, 2410, 1900, 3950, 2926, 2414, 1905, 2420, 1909, 2935, 2425, 1918, 2952, 2954, 2443, 1938, 1940, 2455, 1944, 1945, 2458, 2460, 3485, 1950, 1951, 2975, 2465, 2976, 1956, 3495, 1967, 2480, 3505, 1971, 3515, 1985, 2500, 1989, 3012, 3016, 2507, 3020, 2510, 1488, 2004, 2008, 2010, 3034, 2015, 2017, 4066, 3042, 3045, 2535, 2024, 2536, 3049, 2028, 3053, 2540, 3055, 2548, 2037, 3060, 2551, 2040, 3062, 3071}\n",
      "Признак: engine-type, значения: {'dohc', 'l', 'ohc', 'ohcf', 'dohcv', 'rotor', 'ohcv'}\n",
      "Признак: num-of-cylinders, значения: {'eight', 'twelve', 'six', 'two', 'five', 'four', 'three'}\n",
      "Признак: engine-size, значения: {130, 131, 258, 132, 134, 136, 140, 141, 145, 146, 151, 152, 156, 161, 164, 171, 173, 304, 308, 181, 183, 61, 194, 326, 70, 203, 79, 80, 209, 90, 91, 92, 97, 98, 103, 234, 108, 109, 110, 111, 119, 120, 121, 122}\n",
      "Признак: fuel-system, значения: {'spfi', '2bbl', 'idi', 'spdi', '4bbl', 'mpfi', '1bbl', 'mfi'}\n",
      "Признак: bore, значения: {'3.24', '3.35', '3.03', '2.97', '3.15', '3.17', '3.33', '3.78', '3.39', '3.63', '3.27', '3.60', '3.59', '3.13', '3.94', '3.46', '3.70', '3.31', '3.74', '3.01', '2.54', '3.80', '3.05', '2.68', '3.58', '3.61', '3.54', '3.19', '3.08', '3.47', '3.76', '2.92', '3.43', '3.62', '3.50', '2.91', '?', '2.99', '3.34'}\n",
      "Признак: stroke, значения: {'2.90', '3.35', '3.03', '3.40', '2.19', '3.15', '2.87', '2.80', '3.39', '3.27', '2.64', '3.64', '3.46', '3.07', '2.76', '2.36', '3.41', '3.10', '3.86', '3.52', '2.68', '3.23', '3.16', '3.58', '3.54', '2.07', '3.19', '3.90', '3.08', '3.47', '4.17', '3.50', '3.29', '?', '3.21', '3.11', '3.12'}\n",
      "Признак: compression-ratio, значения: {7.6, 8.6, 7.0, 8.0, 9.0, 10.0, 8.3, 8.5, 8.8, 9.5, 9.6, 9.41, 10.1, 11.5, 21.5, 22.7, 22.0, 21.9, 21.0, 22.5, 23.0, 7.5, 8.1, 8.4, 8.7, 9.4, 9.2, 9.1, 9.31, 9.3, 7.8, 7.7}\n",
      "Признак: horsepower, значения: {'102', '70', '68', '143', '114', '176', '200', '48', '97', '134', '120', '112', '60', '90', '72', '156', '160', '73', '92', '182', '262', '82', '85', '106', '207', '154', '288', '155', '64', '152', '175', '140', '94', '55', '115', '110', '86', '88', '100', '95', '184', '52', '62', '142', '162', '76', '84', '58', '123', '135', '121', '116', '101', '78', '69', '161', '145', '?', '111', '56'}\n",
      "Признак: peak-rpm, значения: {'5250', '5000', '4150', '4900', '4500', '4650', '5200', '4750', '5800', '5600', '5400', '4250', '5750', '4350', '5100', '4800', '4200', '5300', '5900', '6000', '4400', '6600', '?', '5500'}\n",
      "Признак: city-mpg, значения: {13, 14, 15, 16, 17, 18, 19, 20, 21, 22, 23, 24, 25, 26, 27, 28, 29, 30, 31, 32, 33, 34, 35, 36, 37, 38, 45, 47, 49}\n",
      "Признак: highway-mpg, значения: {16, 17, 18, 19, 20, 22, 23, 24, 25, 26, 27, 28, 29, 30, 31, 32, 33, 34, 36, 37, 38, 39, 41, 42, 43, 46, 47, 50, 53, 54}\n",
      "Признак: price, значения: {'7295', '12945', '15580', '41315', '15998', '8189', '19699', '6918', '32528', '7053', '40960', '7395', '11549', '36880', '10698', '7129', '11845', '8238', '12290', '13499', '6488', '14869', '11850', '12964', '17950', '15645', '13295', '45400', '8249', '9980', '13645', '9989', '7499', '9960', '10345', '8558', '7999', '13415', '20970', '6795', '7788', '18344', '11199', '6669', '17450', '13950', '21105', '6575', '5195', '7603', '11900', '6295', '5118', '7349', '13860', '9538', '6377', '15250', '6095', '13200', '12764', '9295', '10795', '11245', '7609', '5151', '15750', '37028', '30760', '12170', '18399', '7799', '16630', '10245', '9279', '7895', '8195', '6938', '5389', '16900', '9895', '18150', '8013', '8499', '15510', '9959', '18620', '8358', '22625', '16430', '6649', '28176', '7738', '9095', '6189', '9495', '5572', '9995', '16500', '6229', '17710', '11048', '18950', '11248', '5399', '8845', '31600', '7775', '17669', '7995', '6338', '5348', '7299', '16845', '8449', '35056', '15040', '28248', '7126', '9258', '15985', '8921', '8058', '6849', '7957', '13845', '15690', '23875', '14489', '16515', '8949', '6785', '9233', '8778', '36000', '16925', '19045', '17075', '10595', '10198', '11694', '12940', '25552', '7689', '16695', '35550', '7099', '34184', '22470', '21485', '6479', '7198', '18420', '6695', '14399', '16503', '7463', '9639', '6989', '8495', '5499', '9298', '8948', '6529', '12629', '6692', '11595', '9549', '13495', '22018', '10945', '9988', '32250', '6855', '18280', '17199', '7898', '24565', '7975', '11259', '?', '18920', '16558', '12440', '34028', '10295', '10898'}\n"
     ]
    }
   ],
   "source": [
    "data.info()\n",
    "cols = data.columns\n",
    "for col in cols:\n",
    "    print(f\"Признак: {col}, значения: {set(data[col].tolist())}\")"
   ],
   "metadata": {
    "collapsed": false,
    "pycharm": {
     "name": "#%%\n"
    }
   }
  },
  {
   "cell_type": "markdown",
   "source": [
    "##### Перекодирование"
   ],
   "metadata": {
    "collapsed": false,
    "pycharm": {
     "name": "#%% md\n"
    }
   }
  },
  {
   "cell_type": "code",
   "execution_count": 4,
   "outputs": [],
   "source": [
    "data = data.replace('?', '')\n",
    "data = data.replace('two', 2)\n",
    "data = data.replace('three', 3)\n",
    "data = data.replace('four', 4)\n",
    "data = data.replace('five', 5)\n",
    "data = data.replace('six', 6)\n",
    "data = data.replace('eight', 8)\n",
    "data = data.replace('twelve', 12)\n",
    "\n",
    "data.to_csv(r'../data/automobile_preprocessed.csv', index_label=False, index=False)\n",
    "data = pd.read_csv(r'../data/automobile_preprocessed.csv', sep = ',')"
   ],
   "metadata": {
    "collapsed": false,
    "pycharm": {
     "name": "#%%\n"
    }
   }
  },
  {
   "cell_type": "code",
   "execution_count": 5,
   "outputs": [],
   "source": [
    "data = data.dropna()"
   ],
   "metadata": {
    "collapsed": false,
    "pycharm": {
     "name": "#%%\n"
    }
   }
  },
  {
   "cell_type": "code",
   "execution_count": 6,
   "outputs": [
    {
     "name": "stdout",
     "output_type": "stream",
     "text": [
      "<class 'pandas.core.frame.DataFrame'>\n",
      "Int64Index: 159 entries, 3 to 204\n",
      "Data columns (total 26 columns):\n",
      " #   Column             Non-Null Count  Dtype  \n",
      "---  ------             --------------  -----  \n",
      " 0   symboling          159 non-null    int64  \n",
      " 1   normalized-losses  159 non-null    float64\n",
      " 2   vendor             159 non-null    object \n",
      " 3   fuel-type          159 non-null    object \n",
      " 4   aspiration         159 non-null    object \n",
      " 5   num-of-doors       159 non-null    float64\n",
      " 6   body-style         159 non-null    object \n",
      " 7   drive-wheels       159 non-null    object \n",
      " 8   engine-location    159 non-null    object \n",
      " 9   wheel-base         159 non-null    float64\n",
      " 10  length             159 non-null    float64\n",
      " 11  width              159 non-null    float64\n",
      " 12  height             159 non-null    float64\n",
      " 13  curb-weight        159 non-null    int64  \n",
      " 14  engine-type        159 non-null    object \n",
      " 15  num-of-cylinders   159 non-null    int64  \n",
      " 16  engine-size        159 non-null    int64  \n",
      " 17  fuel-system        159 non-null    object \n",
      " 18  bore               159 non-null    float64\n",
      " 19  stroke             159 non-null    float64\n",
      " 20  compression-ratio  159 non-null    float64\n",
      " 21  horsepower         159 non-null    float64\n",
      " 22  peak-rpm           159 non-null    float64\n",
      " 23  city-mpg           159 non-null    int64  \n",
      " 24  highway-mpg        159 non-null    int64  \n",
      " 25  price              159 non-null    float64\n",
      "dtypes: float64(12), int64(6), object(8)\n",
      "memory usage: 33.5+ KB\n"
     ]
    },
    {
     "data": {
      "text/plain": "     symboling  normalized-losses vendor fuel-type aspiration  num-of-doors  \\\n3            2              164.0   audi       gas        std           4.0   \n4            2              164.0   audi       gas        std           4.0   \n6            1              158.0   audi       gas        std           4.0   \n8            1              158.0   audi       gas      turbo           4.0   \n10           2              192.0    bmw       gas        std           2.0   \n..         ...                ...    ...       ...        ...           ...   \n200         -1               95.0  volvo       gas        std           4.0   \n201         -1               95.0  volvo       gas      turbo           4.0   \n202         -1               95.0  volvo       gas        std           4.0   \n203         -1               95.0  volvo    diesel      turbo           4.0   \n204         -1               95.0  volvo       gas      turbo           4.0   \n\n    body-style drive-wheels engine-location  wheel-base  ...  engine-size  \\\n3        sedan          fwd           front        99.8  ...          109   \n4        sedan          4wd           front        99.4  ...          136   \n6        sedan          fwd           front       105.8  ...          136   \n8        sedan          fwd           front       105.8  ...          131   \n10       sedan          rwd           front       101.2  ...          108   \n..         ...          ...             ...         ...  ...          ...   \n200      sedan          rwd           front       109.1  ...          141   \n201      sedan          rwd           front       109.1  ...          141   \n202      sedan          rwd           front       109.1  ...          173   \n203      sedan          rwd           front       109.1  ...          145   \n204      sedan          rwd           front       109.1  ...          141   \n\n     fuel-system  bore  stroke compression-ratio  horsepower  peak-rpm  \\\n3           mpfi  3.19    3.40              10.0       102.0    5500.0   \n4           mpfi  3.19    3.40               8.0       115.0    5500.0   \n6           mpfi  3.19    3.40               8.5       110.0    5500.0   \n8           mpfi  3.13    3.40               8.3       140.0    5500.0   \n10          mpfi  3.50    2.80               8.8       101.0    5800.0   \n..           ...   ...     ...               ...         ...       ...   \n200         mpfi  3.78    3.15               9.5       114.0    5400.0   \n201         mpfi  3.78    3.15               8.7       160.0    5300.0   \n202         mpfi  3.58    2.87               8.8       134.0    5500.0   \n203          idi  3.01    3.40              23.0       106.0    4800.0   \n204         mpfi  3.78    3.15               9.5       114.0    5400.0   \n\n    city-mpg  highway-mpg    price  \n3         24           30  13950.0  \n4         18           22  17450.0  \n6         19           25  17710.0  \n8         17           20  23875.0  \n10        23           29  16430.0  \n..       ...          ...      ...  \n200       23           28  16845.0  \n201       19           25  19045.0  \n202       18           23  21485.0  \n203       26           27  22470.0  \n204       19           25  22625.0  \n\n[159 rows x 26 columns]",
      "text/html": "<div>\n<style scoped>\n    .dataframe tbody tr th:only-of-type {\n        vertical-align: middle;\n    }\n\n    .dataframe tbody tr th {\n        vertical-align: top;\n    }\n\n    .dataframe thead th {\n        text-align: right;\n    }\n</style>\n<table border=\"1\" class=\"dataframe\">\n  <thead>\n    <tr style=\"text-align: right;\">\n      <th></th>\n      <th>symboling</th>\n      <th>normalized-losses</th>\n      <th>vendor</th>\n      <th>fuel-type</th>\n      <th>aspiration</th>\n      <th>num-of-doors</th>\n      <th>body-style</th>\n      <th>drive-wheels</th>\n      <th>engine-location</th>\n      <th>wheel-base</th>\n      <th>...</th>\n      <th>engine-size</th>\n      <th>fuel-system</th>\n      <th>bore</th>\n      <th>stroke</th>\n      <th>compression-ratio</th>\n      <th>horsepower</th>\n      <th>peak-rpm</th>\n      <th>city-mpg</th>\n      <th>highway-mpg</th>\n      <th>price</th>\n    </tr>\n  </thead>\n  <tbody>\n    <tr>\n      <th>3</th>\n      <td>2</td>\n      <td>164.0</td>\n      <td>audi</td>\n      <td>gas</td>\n      <td>std</td>\n      <td>4.0</td>\n      <td>sedan</td>\n      <td>fwd</td>\n      <td>front</td>\n      <td>99.8</td>\n      <td>...</td>\n      <td>109</td>\n      <td>mpfi</td>\n      <td>3.19</td>\n      <td>3.40</td>\n      <td>10.0</td>\n      <td>102.0</td>\n      <td>5500.0</td>\n      <td>24</td>\n      <td>30</td>\n      <td>13950.0</td>\n    </tr>\n    <tr>\n      <th>4</th>\n      <td>2</td>\n      <td>164.0</td>\n      <td>audi</td>\n      <td>gas</td>\n      <td>std</td>\n      <td>4.0</td>\n      <td>sedan</td>\n      <td>4wd</td>\n      <td>front</td>\n      <td>99.4</td>\n      <td>...</td>\n      <td>136</td>\n      <td>mpfi</td>\n      <td>3.19</td>\n      <td>3.40</td>\n      <td>8.0</td>\n      <td>115.0</td>\n      <td>5500.0</td>\n      <td>18</td>\n      <td>22</td>\n      <td>17450.0</td>\n    </tr>\n    <tr>\n      <th>6</th>\n      <td>1</td>\n      <td>158.0</td>\n      <td>audi</td>\n      <td>gas</td>\n      <td>std</td>\n      <td>4.0</td>\n      <td>sedan</td>\n      <td>fwd</td>\n      <td>front</td>\n      <td>105.8</td>\n      <td>...</td>\n      <td>136</td>\n      <td>mpfi</td>\n      <td>3.19</td>\n      <td>3.40</td>\n      <td>8.5</td>\n      <td>110.0</td>\n      <td>5500.0</td>\n      <td>19</td>\n      <td>25</td>\n      <td>17710.0</td>\n    </tr>\n    <tr>\n      <th>8</th>\n      <td>1</td>\n      <td>158.0</td>\n      <td>audi</td>\n      <td>gas</td>\n      <td>turbo</td>\n      <td>4.0</td>\n      <td>sedan</td>\n      <td>fwd</td>\n      <td>front</td>\n      <td>105.8</td>\n      <td>...</td>\n      <td>131</td>\n      <td>mpfi</td>\n      <td>3.13</td>\n      <td>3.40</td>\n      <td>8.3</td>\n      <td>140.0</td>\n      <td>5500.0</td>\n      <td>17</td>\n      <td>20</td>\n      <td>23875.0</td>\n    </tr>\n    <tr>\n      <th>10</th>\n      <td>2</td>\n      <td>192.0</td>\n      <td>bmw</td>\n      <td>gas</td>\n      <td>std</td>\n      <td>2.0</td>\n      <td>sedan</td>\n      <td>rwd</td>\n      <td>front</td>\n      <td>101.2</td>\n      <td>...</td>\n      <td>108</td>\n      <td>mpfi</td>\n      <td>3.50</td>\n      <td>2.80</td>\n      <td>8.8</td>\n      <td>101.0</td>\n      <td>5800.0</td>\n      <td>23</td>\n      <td>29</td>\n      <td>16430.0</td>\n    </tr>\n    <tr>\n      <th>...</th>\n      <td>...</td>\n      <td>...</td>\n      <td>...</td>\n      <td>...</td>\n      <td>...</td>\n      <td>...</td>\n      <td>...</td>\n      <td>...</td>\n      <td>...</td>\n      <td>...</td>\n      <td>...</td>\n      <td>...</td>\n      <td>...</td>\n      <td>...</td>\n      <td>...</td>\n      <td>...</td>\n      <td>...</td>\n      <td>...</td>\n      <td>...</td>\n      <td>...</td>\n      <td>...</td>\n    </tr>\n    <tr>\n      <th>200</th>\n      <td>-1</td>\n      <td>95.0</td>\n      <td>volvo</td>\n      <td>gas</td>\n      <td>std</td>\n      <td>4.0</td>\n      <td>sedan</td>\n      <td>rwd</td>\n      <td>front</td>\n      <td>109.1</td>\n      <td>...</td>\n      <td>141</td>\n      <td>mpfi</td>\n      <td>3.78</td>\n      <td>3.15</td>\n      <td>9.5</td>\n      <td>114.0</td>\n      <td>5400.0</td>\n      <td>23</td>\n      <td>28</td>\n      <td>16845.0</td>\n    </tr>\n    <tr>\n      <th>201</th>\n      <td>-1</td>\n      <td>95.0</td>\n      <td>volvo</td>\n      <td>gas</td>\n      <td>turbo</td>\n      <td>4.0</td>\n      <td>sedan</td>\n      <td>rwd</td>\n      <td>front</td>\n      <td>109.1</td>\n      <td>...</td>\n      <td>141</td>\n      <td>mpfi</td>\n      <td>3.78</td>\n      <td>3.15</td>\n      <td>8.7</td>\n      <td>160.0</td>\n      <td>5300.0</td>\n      <td>19</td>\n      <td>25</td>\n      <td>19045.0</td>\n    </tr>\n    <tr>\n      <th>202</th>\n      <td>-1</td>\n      <td>95.0</td>\n      <td>volvo</td>\n      <td>gas</td>\n      <td>std</td>\n      <td>4.0</td>\n      <td>sedan</td>\n      <td>rwd</td>\n      <td>front</td>\n      <td>109.1</td>\n      <td>...</td>\n      <td>173</td>\n      <td>mpfi</td>\n      <td>3.58</td>\n      <td>2.87</td>\n      <td>8.8</td>\n      <td>134.0</td>\n      <td>5500.0</td>\n      <td>18</td>\n      <td>23</td>\n      <td>21485.0</td>\n    </tr>\n    <tr>\n      <th>203</th>\n      <td>-1</td>\n      <td>95.0</td>\n      <td>volvo</td>\n      <td>diesel</td>\n      <td>turbo</td>\n      <td>4.0</td>\n      <td>sedan</td>\n      <td>rwd</td>\n      <td>front</td>\n      <td>109.1</td>\n      <td>...</td>\n      <td>145</td>\n      <td>idi</td>\n      <td>3.01</td>\n      <td>3.40</td>\n      <td>23.0</td>\n      <td>106.0</td>\n      <td>4800.0</td>\n      <td>26</td>\n      <td>27</td>\n      <td>22470.0</td>\n    </tr>\n    <tr>\n      <th>204</th>\n      <td>-1</td>\n      <td>95.0</td>\n      <td>volvo</td>\n      <td>gas</td>\n      <td>turbo</td>\n      <td>4.0</td>\n      <td>sedan</td>\n      <td>rwd</td>\n      <td>front</td>\n      <td>109.1</td>\n      <td>...</td>\n      <td>141</td>\n      <td>mpfi</td>\n      <td>3.78</td>\n      <td>3.15</td>\n      <td>9.5</td>\n      <td>114.0</td>\n      <td>5400.0</td>\n      <td>19</td>\n      <td>25</td>\n      <td>22625.0</td>\n    </tr>\n  </tbody>\n</table>\n<p>159 rows × 26 columns</p>\n</div>"
     },
     "execution_count": 6,
     "metadata": {},
     "output_type": "execute_result"
    }
   ],
   "source": [
    "data.info()\n",
    "data"
   ],
   "metadata": {
    "collapsed": false,
    "pycharm": {
     "name": "#%%\n"
    }
   }
  },
  {
   "cell_type": "code",
   "execution_count": 7,
   "outputs": [
    {
     "name": "stdout",
     "output_type": "stream",
     "text": [
      "Признак: symboling, значения: {0, 1, 2, 3, -2, -1}\n",
      "Признак: normalized-losses, значения: {128.0, 129.0, 256.0, 134.0, 137.0, 142.0, 145.0, 148.0, 150.0, 153.0, 154.0, 158.0, 161.0, 164.0, 168.0, 186.0, 188.0, 192.0, 65.0, 194.0, 197.0, 74.0, 77.0, 78.0, 81.0, 83.0, 85.0, 87.0, 89.0, 90.0, 91.0, 93.0, 94.0, 95.0, 98.0, 101.0, 102.0, 103.0, 104.0, 231.0, 106.0, 107.0, 108.0, 110.0, 113.0, 115.0, 118.0, 119.0, 121.0, 122.0, 125.0}\n",
      "Признак: vendor, значения: {'mercedes-benz', 'jaguar', 'plymouth', 'dodge', 'chevrolet', 'nissan', 'subaru', 'toyota', 'bmw', 'volvo', 'peugot', 'saab', 'honda', 'porsche', 'volkswagen', 'mitsubishi', 'audi', 'mazda'}\n",
      "Признак: fuel-type, значения: {'gas', 'diesel'}\n",
      "Признак: aspiration, значения: {'std', 'turbo'}\n",
      "Признак: num-of-doors, значения: {2.0, 4.0}\n",
      "Признак: body-style, значения: {'sedan', 'convertible', 'wagon', 'hatchback', 'hardtop'}\n",
      "Признак: drive-wheels, значения: {'fwd', 'rwd', '4wd'}\n",
      "Признак: engine-location, значения: {'front'}\n",
      "Признак: wheel-base, значения: {102.4, 102.9, 104.5, 104.3, 95.1, 109.1, 96.9, 93.0, 93.3, 86.6, 88.4, 97.3, 91.3, 93.1, 93.7, 94.5, 96.5, 96.6, 98.8, 99.4, 99.8, 101.2, 95.9, 103.3, 104.9, 105.8, 106.7, 96.3, 97.2, 100.4, 110.0, 107.9, 108.0, 113.0, 97.0, 115.6, 99.2, 99.1, 98.4, 95.7}\n",
      "Признак: length, значения: {141.1, 144.6, 150.0, 155.9, 156.9, 157.1, 157.3, 158.8, 159.1, 157.9, 162.4, 163.4, 158.7, 165.3, 166.8, 167.5, 165.6, 169.1, 170.2, 170.7, 172.4, 173.2, 174.6, 175.4, 176.6, 176.8, 177.8, 175.0, 180.3, 173.0, 173.4, 181.7, 184.6, 178.5, 186.7, 187.5, 186.6, 183.5, 190.9, 187.8, 192.7, 165.7, 188.8, 166.3, 199.6, 167.3, 202.6, 168.9, 168.7, 169.7, 171.7, 172.0, 173.5, 173.6, 175.6, 176.2}\n",
      "Признак: width, значения: {63.6, 64.4, 60.3, 63.8, 62.5, 63.9, 64.8, 64.6, 66.2, 66.4, 66.3, 64.0, 65.2, 71.4, 66.0, 69.6, 64.2, 70.3, 71.7, 66.5, 66.1, 70.5, 65.4, 65.6, 67.9, 67.7, 67.2, 68.4, 68.3, 68.9, 68.8, 63.4, 65.5}\n",
      "Признак: height, значения: {51.6, 51.4, 52.6, 52.5, 53.3, 53.5, 53.0, 53.9, 54.1, 54.4, 54.9, 54.7, 55.1, 56.3, 56.1, 56.7, 56.0, 56.2, 57.5, 49.4, 50.8, 51.0, 52.8, 53.7, 50.6, 55.5, 52.0, 53.2, 58.3, 54.3, 55.9, 55.7, 59.8, 54.5, 56.5, 58.7, 59.1, 49.7, 50.2}\n",
      "Признак: curb-weight, значения: {2050, 3075, 3086, 3095, 2081, 3110, 2094, 3130, 3131, 2109, 3139, 2120, 2122, 2128, 3157, 2650, 2140, 2145, 2658, 3685, 2670, 2679, 2169, 3197, 2695, 2190, 2191, 3217, 2707, 2710, 2714, 2204, 2209, 2212, 3750, 2221, 1713, 3252, 3770, 2236, 2240, 2758, 2765, 2261, 2264, 2265, 2778, 3296, 2275, 2280, 2289, 2290, 2293, 2808, 2811, 2300, 2302, 2304, 2824, 2319, 2324, 2326, 2328, 1819, 2844, 2847, 2337, 2340, 1837, 2365, 2370, 2372, 2385, 1874, 1876, 2395, 2912, 1889, 1890, 2403, 2405, 2410, 1900, 2414, 1905, 2420, 1909, 2935, 2425, 1918, 2952, 1938, 1940, 2455, 1944, 1945, 2458, 1950, 1951, 2975, 2465, 2976, 1956, 3495, 1967, 2480, 1971, 3515, 1985, 3012, 1989, 3016, 3020, 2510, 1488, 2004, 2008, 2010, 3034, 2015, 2017, 4066, 3042, 3045, 2535, 2024, 2536, 3049, 2028, 2540, 3060, 2037, 3062, 2551, 2040, 3071}\n",
      "Признак: engine-type, значения: {'dohc', 'l', 'ohc', 'ohcf', 'ohcv'}\n",
      "Признак: num-of-cylinders, значения: {3, 4, 5, 6, 8}\n",
      "Признак: engine-size, значения: {258, 131, 130, 134, 136, 140, 141, 145, 146, 151, 152, 156, 164, 171, 173, 181, 183, 61, 79, 90, 91, 92, 97, 98, 103, 234, 108, 109, 110, 120, 121, 122}\n",
      "Признак: fuel-system, значения: {'2bbl', 'idi', 'spdi', 'mpfi', '1bbl', 'mfi'}\n",
      "Признак: bore, значения: {2.91, 3.13, 3.5, 3.19, 3.31, 3.03, 2.97, 3.34, 3.6, 2.92, 3.15, 2.99, 3.08, 3.76, 3.58, 3.17, 3.33, 3.24, 3.01, 3.35, 3.43, 3.61, 3.94, 3.27, 3.78, 2.54, 3.63, 3.46, 3.7, 3.54, 3.62, 3.05, 3.39}\n",
      "Признак: stroke, значения: {2.8, 3.19, 3.11, 3.4, 3.03, 3.23, 3.39, 3.46, 3.9, 3.41, 3.07, 4.17, 3.58, 3.16, 3.08, 3.5, 2.19, 2.36, 3.1, 3.27, 3.52, 3.35, 2.87, 3.29, 3.21, 3.54, 2.07, 2.64, 3.15, 3.64, 3.47}\n",
      "Признак: compression-ratio, значения: {7.0, 8.6, 7.5, 7.6, 8.0, 8.5, 10.0, 8.8, 8.3, 9.0, 9.5, 9.6, 10.1, 21.5, 21.9, 21.0, 22.5, 23.0, 8.1, 8.4, 8.7, 9.41, 9.4, 9.2, 9.1, 9.31, 9.3, 7.8, 7.7}\n",
      "Признак: horsepower, значения: {134.0, 140.0, 142.0, 143.0, 145.0, 152.0, 155.0, 156.0, 160.0, 161.0, 162.0, 48.0, 176.0, 52.0, 55.0, 56.0, 58.0, 60.0, 62.0, 68.0, 69.0, 70.0, 200.0, 73.0, 76.0, 82.0, 84.0, 85.0, 86.0, 88.0, 90.0, 92.0, 94.0, 95.0, 97.0, 100.0, 101.0, 102.0, 106.0, 110.0, 111.0, 112.0, 114.0, 115.0, 116.0, 120.0, 121.0, 123.0}\n",
      "Признак: peak-rpm, значения: {5250.0, 5000.0, 4750.0, 4500.0, 5400.0, 4250.0, 4900.0, 5800.0, 4400.0, 5300.0, 4150.0, 4800.0, 6600.0, 5200.0, 5600.0, 4200.0, 5100.0, 6000.0, 5500.0, 4350.0}\n",
      "Признак: city-mpg, значения: {15, 16, 17, 18, 19, 20, 21, 22, 23, 24, 25, 26, 27, 28, 29, 30, 31, 32, 34, 35, 37, 38, 45, 47, 49}\n",
      "Признак: highway-mpg, значения: {18, 19, 20, 22, 23, 24, 25, 26, 27, 28, 29, 30, 31, 32, 33, 34, 36, 37, 38, 39, 41, 42, 43, 46, 47, 50, 53, 54}\n",
      "Признак: price, значения: {22018.0, 8195.0, 16900.0, 10245.0, 18950.0, 7689.0, 6669.0, 28176.0, 9233.0, 16925.0, 17950.0, 5151.0, 7198.0, 6692.0, 6695.0, 17450.0, 9258.0, 6189.0, 16430.0, 8238.0, 10295.0, 8249.0, 7738.0, 9279.0, 14399.0, 11850.0, 5195.0, 8778.0, 9298.0, 6229.0, 28248.0, 7775.0, 22625.0, 19045.0, 13415.0, 10345.0, 7788.0, 21105.0, 15985.0, 7799.0, 11900.0, 13950.0, 7295.0, 15998.0, 7299.0, 16515.0, 6795.0, 12940.0, 8845.0, 12945.0, 10898.0, 15510.0, 6295.0, 12964.0, 8358.0, 16558.0, 7349.0, 13499.0, 18620.0, 15040.0, 6849.0, 6338.0, 6855.0, 7895.0, 8921.0, 7898.0, 15580.0, 7395.0, 5348.0, 18150.0, 9959.0, 9960.0, 6377.0, 35056.0, 19699.0, 8948.0, 8949.0, 16630.0, 9980.0, 8449.0, 9988.0, 9989.0, 6918.0, 17669.0, 9995.0, 5389.0, 7957.0, 5399.0, 9495.0, 6938.0, 11549.0, 7463.0, 7975.0, 17710.0, 8495.0, 17199.0, 8499.0, 7995.0, 7999.0, 9538.0, 23875.0, 15690.0, 7499.0, 6989.0, 9549.0, 6479.0, 8013.0, 6488.0, 10595.0, 18280.0, 31600.0, 8058.0, 5499.0, 6529.0, 9095.0, 12170.0, 7053.0, 13200.0, 9639.0, 11694.0, 6575.0, 7603.0, 7609.0, 7099.0, 11199.0, 5572.0, 22470.0, 10698.0, 16845.0, 6095.0, 25552.0, 7126.0, 10198.0, 7129.0, 18399.0, 20970.0, 11245.0, 21485.0, 11248.0, 18420.0, 6649.0, 32250.0, 11259.0, 8189.0, 5118.0}\n"
     ]
    }
   ],
   "source": [
    "cols = data.columns\n",
    "for col in cols:\n",
    "    print(f\"Признак: {col}, значения: {set(data[col].tolist())}\")"
   ],
   "metadata": {
    "collapsed": false,
    "pycharm": {
     "name": "#%%\n"
    }
   }
  },
  {
   "cell_type": "code",
   "execution_count": 8,
   "outputs": [],
   "source": [
    "data = pd.get_dummies(data)"
   ],
   "metadata": {
    "collapsed": false,
    "pycharm": {
     "name": "#%%\n"
    }
   }
  },
  {
   "cell_type": "code",
   "execution_count": 9,
   "outputs": [
    {
     "name": "stdout",
     "output_type": "stream",
     "text": [
      "<class 'pandas.core.frame.DataFrame'>\n",
      "Int64Index: 159 entries, 3 to 204\n",
      "Data columns (total 60 columns):\n",
      " #   Column                  Non-Null Count  Dtype  \n",
      "---  ------                  --------------  -----  \n",
      " 0   symboling               159 non-null    int64  \n",
      " 1   normalized-losses       159 non-null    float64\n",
      " 2   num-of-doors            159 non-null    float64\n",
      " 3   wheel-base              159 non-null    float64\n",
      " 4   length                  159 non-null    float64\n",
      " 5   width                   159 non-null    float64\n",
      " 6   height                  159 non-null    float64\n",
      " 7   curb-weight             159 non-null    int64  \n",
      " 8   num-of-cylinders        159 non-null    int64  \n",
      " 9   engine-size             159 non-null    int64  \n",
      " 10  bore                    159 non-null    float64\n",
      " 11  stroke                  159 non-null    float64\n",
      " 12  compression-ratio       159 non-null    float64\n",
      " 13  horsepower              159 non-null    float64\n",
      " 14  peak-rpm                159 non-null    float64\n",
      " 15  city-mpg                159 non-null    int64  \n",
      " 16  highway-mpg             159 non-null    int64  \n",
      " 17  price                   159 non-null    float64\n",
      " 18  vendor_audi             159 non-null    uint8  \n",
      " 19  vendor_bmw              159 non-null    uint8  \n",
      " 20  vendor_chevrolet        159 non-null    uint8  \n",
      " 21  vendor_dodge            159 non-null    uint8  \n",
      " 22  vendor_honda            159 non-null    uint8  \n",
      " 23  vendor_jaguar           159 non-null    uint8  \n",
      " 24  vendor_mazda            159 non-null    uint8  \n",
      " 25  vendor_mercedes-benz    159 non-null    uint8  \n",
      " 26  vendor_mitsubishi       159 non-null    uint8  \n",
      " 27  vendor_nissan           159 non-null    uint8  \n",
      " 28  vendor_peugot           159 non-null    uint8  \n",
      " 29  vendor_plymouth         159 non-null    uint8  \n",
      " 30  vendor_porsche          159 non-null    uint8  \n",
      " 31  vendor_saab             159 non-null    uint8  \n",
      " 32  vendor_subaru           159 non-null    uint8  \n",
      " 33  vendor_toyota           159 non-null    uint8  \n",
      " 34  vendor_volkswagen       159 non-null    uint8  \n",
      " 35  vendor_volvo            159 non-null    uint8  \n",
      " 36  fuel-type_diesel        159 non-null    uint8  \n",
      " 37  fuel-type_gas           159 non-null    uint8  \n",
      " 38  aspiration_std          159 non-null    uint8  \n",
      " 39  aspiration_turbo        159 non-null    uint8  \n",
      " 40  body-style_convertible  159 non-null    uint8  \n",
      " 41  body-style_hardtop      159 non-null    uint8  \n",
      " 42  body-style_hatchback    159 non-null    uint8  \n",
      " 43  body-style_sedan        159 non-null    uint8  \n",
      " 44  body-style_wagon        159 non-null    uint8  \n",
      " 45  drive-wheels_4wd        159 non-null    uint8  \n",
      " 46  drive-wheels_fwd        159 non-null    uint8  \n",
      " 47  drive-wheels_rwd        159 non-null    uint8  \n",
      " 48  engine-location_front   159 non-null    uint8  \n",
      " 49  engine-type_dohc        159 non-null    uint8  \n",
      " 50  engine-type_l           159 non-null    uint8  \n",
      " 51  engine-type_ohc         159 non-null    uint8  \n",
      " 52  engine-type_ohcf        159 non-null    uint8  \n",
      " 53  engine-type_ohcv        159 non-null    uint8  \n",
      " 54  fuel-system_1bbl        159 non-null    uint8  \n",
      " 55  fuel-system_2bbl        159 non-null    uint8  \n",
      " 56  fuel-system_idi         159 non-null    uint8  \n",
      " 57  fuel-system_mfi         159 non-null    uint8  \n",
      " 58  fuel-system_mpfi        159 non-null    uint8  \n",
      " 59  fuel-system_spdi        159 non-null    uint8  \n",
      "dtypes: float64(12), int64(6), uint8(42)\n",
      "memory usage: 30.1 KB\n"
     ]
    },
    {
     "data": {
      "text/plain": "     symboling  normalized-losses  num-of-doors  wheel-base  length  width  \\\n3            2              164.0           4.0        99.8   176.6   66.2   \n4            2              164.0           4.0        99.4   176.6   66.4   \n6            1              158.0           4.0       105.8   192.7   71.4   \n8            1              158.0           4.0       105.8   192.7   71.4   \n10           2              192.0           2.0       101.2   176.8   64.8   \n..         ...                ...           ...         ...     ...    ...   \n200         -1               95.0           4.0       109.1   188.8   68.9   \n201         -1               95.0           4.0       109.1   188.8   68.8   \n202         -1               95.0           4.0       109.1   188.8   68.9   \n203         -1               95.0           4.0       109.1   188.8   68.9   \n204         -1               95.0           4.0       109.1   188.8   68.9   \n\n     height  curb-weight  num-of-cylinders  engine-size  ...  engine-type_l  \\\n3      54.3         2337                 4          109  ...              0   \n4      54.3         2824                 5          136  ...              0   \n6      55.7         2844                 5          136  ...              0   \n8      55.9         3086                 5          131  ...              0   \n10     54.3         2395                 4          108  ...              0   \n..      ...          ...               ...          ...  ...            ...   \n200    55.5         2952                 4          141  ...              0   \n201    55.5         3049                 4          141  ...              0   \n202    55.5         3012                 6          173  ...              0   \n203    55.5         3217                 6          145  ...              0   \n204    55.5         3062                 4          141  ...              0   \n\n     engine-type_ohc  engine-type_ohcf  engine-type_ohcv  fuel-system_1bbl  \\\n3                  1                 0                 0                 0   \n4                  1                 0                 0                 0   \n6                  1                 0                 0                 0   \n8                  1                 0                 0                 0   \n10                 1                 0                 0                 0   \n..               ...               ...               ...               ...   \n200                1                 0                 0                 0   \n201                1                 0                 0                 0   \n202                0                 0                 1                 0   \n203                1                 0                 0                 0   \n204                1                 0                 0                 0   \n\n     fuel-system_2bbl  fuel-system_idi  fuel-system_mfi  fuel-system_mpfi  \\\n3                   0                0                0                 1   \n4                   0                0                0                 1   \n6                   0                0                0                 1   \n8                   0                0                0                 1   \n10                  0                0                0                 1   \n..                ...              ...              ...               ...   \n200                 0                0                0                 1   \n201                 0                0                0                 1   \n202                 0                0                0                 1   \n203                 0                1                0                 0   \n204                 0                0                0                 1   \n\n     fuel-system_spdi  \n3                   0  \n4                   0  \n6                   0  \n8                   0  \n10                  0  \n..                ...  \n200                 0  \n201                 0  \n202                 0  \n203                 0  \n204                 0  \n\n[159 rows x 60 columns]",
      "text/html": "<div>\n<style scoped>\n    .dataframe tbody tr th:only-of-type {\n        vertical-align: middle;\n    }\n\n    .dataframe tbody tr th {\n        vertical-align: top;\n    }\n\n    .dataframe thead th {\n        text-align: right;\n    }\n</style>\n<table border=\"1\" class=\"dataframe\">\n  <thead>\n    <tr style=\"text-align: right;\">\n      <th></th>\n      <th>symboling</th>\n      <th>normalized-losses</th>\n      <th>num-of-doors</th>\n      <th>wheel-base</th>\n      <th>length</th>\n      <th>width</th>\n      <th>height</th>\n      <th>curb-weight</th>\n      <th>num-of-cylinders</th>\n      <th>engine-size</th>\n      <th>...</th>\n      <th>engine-type_l</th>\n      <th>engine-type_ohc</th>\n      <th>engine-type_ohcf</th>\n      <th>engine-type_ohcv</th>\n      <th>fuel-system_1bbl</th>\n      <th>fuel-system_2bbl</th>\n      <th>fuel-system_idi</th>\n      <th>fuel-system_mfi</th>\n      <th>fuel-system_mpfi</th>\n      <th>fuel-system_spdi</th>\n    </tr>\n  </thead>\n  <tbody>\n    <tr>\n      <th>3</th>\n      <td>2</td>\n      <td>164.0</td>\n      <td>4.0</td>\n      <td>99.8</td>\n      <td>176.6</td>\n      <td>66.2</td>\n      <td>54.3</td>\n      <td>2337</td>\n      <td>4</td>\n      <td>109</td>\n      <td>...</td>\n      <td>0</td>\n      <td>1</td>\n      <td>0</td>\n      <td>0</td>\n      <td>0</td>\n      <td>0</td>\n      <td>0</td>\n      <td>0</td>\n      <td>1</td>\n      <td>0</td>\n    </tr>\n    <tr>\n      <th>4</th>\n      <td>2</td>\n      <td>164.0</td>\n      <td>4.0</td>\n      <td>99.4</td>\n      <td>176.6</td>\n      <td>66.4</td>\n      <td>54.3</td>\n      <td>2824</td>\n      <td>5</td>\n      <td>136</td>\n      <td>...</td>\n      <td>0</td>\n      <td>1</td>\n      <td>0</td>\n      <td>0</td>\n      <td>0</td>\n      <td>0</td>\n      <td>0</td>\n      <td>0</td>\n      <td>1</td>\n      <td>0</td>\n    </tr>\n    <tr>\n      <th>6</th>\n      <td>1</td>\n      <td>158.0</td>\n      <td>4.0</td>\n      <td>105.8</td>\n      <td>192.7</td>\n      <td>71.4</td>\n      <td>55.7</td>\n      <td>2844</td>\n      <td>5</td>\n      <td>136</td>\n      <td>...</td>\n      <td>0</td>\n      <td>1</td>\n      <td>0</td>\n      <td>0</td>\n      <td>0</td>\n      <td>0</td>\n      <td>0</td>\n      <td>0</td>\n      <td>1</td>\n      <td>0</td>\n    </tr>\n    <tr>\n      <th>8</th>\n      <td>1</td>\n      <td>158.0</td>\n      <td>4.0</td>\n      <td>105.8</td>\n      <td>192.7</td>\n      <td>71.4</td>\n      <td>55.9</td>\n      <td>3086</td>\n      <td>5</td>\n      <td>131</td>\n      <td>...</td>\n      <td>0</td>\n      <td>1</td>\n      <td>0</td>\n      <td>0</td>\n      <td>0</td>\n      <td>0</td>\n      <td>0</td>\n      <td>0</td>\n      <td>1</td>\n      <td>0</td>\n    </tr>\n    <tr>\n      <th>10</th>\n      <td>2</td>\n      <td>192.0</td>\n      <td>2.0</td>\n      <td>101.2</td>\n      <td>176.8</td>\n      <td>64.8</td>\n      <td>54.3</td>\n      <td>2395</td>\n      <td>4</td>\n      <td>108</td>\n      <td>...</td>\n      <td>0</td>\n      <td>1</td>\n      <td>0</td>\n      <td>0</td>\n      <td>0</td>\n      <td>0</td>\n      <td>0</td>\n      <td>0</td>\n      <td>1</td>\n      <td>0</td>\n    </tr>\n    <tr>\n      <th>...</th>\n      <td>...</td>\n      <td>...</td>\n      <td>...</td>\n      <td>...</td>\n      <td>...</td>\n      <td>...</td>\n      <td>...</td>\n      <td>...</td>\n      <td>...</td>\n      <td>...</td>\n      <td>...</td>\n      <td>...</td>\n      <td>...</td>\n      <td>...</td>\n      <td>...</td>\n      <td>...</td>\n      <td>...</td>\n      <td>...</td>\n      <td>...</td>\n      <td>...</td>\n      <td>...</td>\n    </tr>\n    <tr>\n      <th>200</th>\n      <td>-1</td>\n      <td>95.0</td>\n      <td>4.0</td>\n      <td>109.1</td>\n      <td>188.8</td>\n      <td>68.9</td>\n      <td>55.5</td>\n      <td>2952</td>\n      <td>4</td>\n      <td>141</td>\n      <td>...</td>\n      <td>0</td>\n      <td>1</td>\n      <td>0</td>\n      <td>0</td>\n      <td>0</td>\n      <td>0</td>\n      <td>0</td>\n      <td>0</td>\n      <td>1</td>\n      <td>0</td>\n    </tr>\n    <tr>\n      <th>201</th>\n      <td>-1</td>\n      <td>95.0</td>\n      <td>4.0</td>\n      <td>109.1</td>\n      <td>188.8</td>\n      <td>68.8</td>\n      <td>55.5</td>\n      <td>3049</td>\n      <td>4</td>\n      <td>141</td>\n      <td>...</td>\n      <td>0</td>\n      <td>1</td>\n      <td>0</td>\n      <td>0</td>\n      <td>0</td>\n      <td>0</td>\n      <td>0</td>\n      <td>0</td>\n      <td>1</td>\n      <td>0</td>\n    </tr>\n    <tr>\n      <th>202</th>\n      <td>-1</td>\n      <td>95.0</td>\n      <td>4.0</td>\n      <td>109.1</td>\n      <td>188.8</td>\n      <td>68.9</td>\n      <td>55.5</td>\n      <td>3012</td>\n      <td>6</td>\n      <td>173</td>\n      <td>...</td>\n      <td>0</td>\n      <td>0</td>\n      <td>0</td>\n      <td>1</td>\n      <td>0</td>\n      <td>0</td>\n      <td>0</td>\n      <td>0</td>\n      <td>1</td>\n      <td>0</td>\n    </tr>\n    <tr>\n      <th>203</th>\n      <td>-1</td>\n      <td>95.0</td>\n      <td>4.0</td>\n      <td>109.1</td>\n      <td>188.8</td>\n      <td>68.9</td>\n      <td>55.5</td>\n      <td>3217</td>\n      <td>6</td>\n      <td>145</td>\n      <td>...</td>\n      <td>0</td>\n      <td>1</td>\n      <td>0</td>\n      <td>0</td>\n      <td>0</td>\n      <td>0</td>\n      <td>1</td>\n      <td>0</td>\n      <td>0</td>\n      <td>0</td>\n    </tr>\n    <tr>\n      <th>204</th>\n      <td>-1</td>\n      <td>95.0</td>\n      <td>4.0</td>\n      <td>109.1</td>\n      <td>188.8</td>\n      <td>68.9</td>\n      <td>55.5</td>\n      <td>3062</td>\n      <td>4</td>\n      <td>141</td>\n      <td>...</td>\n      <td>0</td>\n      <td>1</td>\n      <td>0</td>\n      <td>0</td>\n      <td>0</td>\n      <td>0</td>\n      <td>0</td>\n      <td>0</td>\n      <td>1</td>\n      <td>0</td>\n    </tr>\n  </tbody>\n</table>\n<p>159 rows × 60 columns</p>\n</div>"
     },
     "execution_count": 9,
     "metadata": {},
     "output_type": "execute_result"
    }
   ],
   "source": [
    "data.info()\n",
    "data"
   ],
   "metadata": {
    "collapsed": false,
    "pycharm": {
     "name": "#%%\n"
    }
   }
  },
  {
   "cell_type": "markdown",
   "source": [
    "##### Сохранение изменённого датасета"
   ],
   "metadata": {
    "collapsed": false,
    "pycharm": {
     "name": "#%% md\n"
    }
   }
  },
  {
   "cell_type": "code",
   "execution_count": 10,
   "outputs": [],
   "source": [
    "data.to_csv(r'../data/automobile_preprocessed.csv', index_label=False, index=False)"
   ],
   "metadata": {
    "collapsed": false,
    "pycharm": {
     "name": "#%%\n"
    }
   }
  }
 ],
 "metadata": {
  "kernelspec": {
   "display_name": "Python 3",
   "language": "python",
   "name": "python3"
  },
  "language_info": {
   "codemirror_mode": {
    "name": "ipython",
    "version": 2
   },
   "file_extension": ".py",
   "mimetype": "text/x-python",
   "name": "python",
   "nbconvert_exporter": "python",
   "pygments_lexer": "ipython2",
   "version": "3.9.2-final"
  }
 },
 "nbformat": 4,
 "nbformat_minor": 0
}