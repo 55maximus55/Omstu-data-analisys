{
 "cells": [
  {
   "cell_type": "markdown",
   "metadata": {
    "collapsed": true,
    "pycharm": {
     "name": "#%% md\n"
    }
   },
   "source": [
    "# Предобработка датасета car-evaluation"
   ]
  },
  {
   "cell_type": "markdown",
   "source": [
    "Загрузка библиотек"
   ],
   "metadata": {
    "collapsed": false
   }
  },
  {
   "cell_type": "code",
   "execution_count": 1,
   "outputs": [],
   "source": [
    "import pandas as pd"
   ],
   "metadata": {
    "collapsed": false,
    "pycharm": {
     "name": "#%%\n"
    }
   }
  },
  {
   "cell_type": "markdown",
   "source": [
    "Загрузка датасета"
   ],
   "metadata": {
    "collapsed": false
   }
  },
  {
   "cell_type": "code",
   "execution_count": 2,
   "outputs": [
    {
     "data": {
      "text/plain": "     buying  maint  doors persons lug_boot safety  class\n0     vhigh  vhigh      2       2    small    low  unacc\n1     vhigh  vhigh      2       2    small    med  unacc\n2     vhigh  vhigh      2       2    small   high  unacc\n3     vhigh  vhigh      2       2      med    low  unacc\n4     vhigh  vhigh      2       2      med    med  unacc\n...     ...    ...    ...     ...      ...    ...    ...\n1723    low    low  5more    more      med    med   good\n1724    low    low  5more    more      med   high  vgood\n1725    low    low  5more    more      big    low  unacc\n1726    low    low  5more    more      big    med   good\n1727    low    low  5more    more      big   high  vgood\n\n[1728 rows x 7 columns]",
      "text/html": "<div>\n<style scoped>\n    .dataframe tbody tr th:only-of-type {\n        vertical-align: middle;\n    }\n\n    .dataframe tbody tr th {\n        vertical-align: top;\n    }\n\n    .dataframe thead th {\n        text-align: right;\n    }\n</style>\n<table border=\"1\" class=\"dataframe\">\n  <thead>\n    <tr style=\"text-align: right;\">\n      <th></th>\n      <th>buying</th>\n      <th>maint</th>\n      <th>doors</th>\n      <th>persons</th>\n      <th>lug_boot</th>\n      <th>safety</th>\n      <th>class</th>\n    </tr>\n  </thead>\n  <tbody>\n    <tr>\n      <th>0</th>\n      <td>vhigh</td>\n      <td>vhigh</td>\n      <td>2</td>\n      <td>2</td>\n      <td>small</td>\n      <td>low</td>\n      <td>unacc</td>\n    </tr>\n    <tr>\n      <th>1</th>\n      <td>vhigh</td>\n      <td>vhigh</td>\n      <td>2</td>\n      <td>2</td>\n      <td>small</td>\n      <td>med</td>\n      <td>unacc</td>\n    </tr>\n    <tr>\n      <th>2</th>\n      <td>vhigh</td>\n      <td>vhigh</td>\n      <td>2</td>\n      <td>2</td>\n      <td>small</td>\n      <td>high</td>\n      <td>unacc</td>\n    </tr>\n    <tr>\n      <th>3</th>\n      <td>vhigh</td>\n      <td>vhigh</td>\n      <td>2</td>\n      <td>2</td>\n      <td>med</td>\n      <td>low</td>\n      <td>unacc</td>\n    </tr>\n    <tr>\n      <th>4</th>\n      <td>vhigh</td>\n      <td>vhigh</td>\n      <td>2</td>\n      <td>2</td>\n      <td>med</td>\n      <td>med</td>\n      <td>unacc</td>\n    </tr>\n    <tr>\n      <th>...</th>\n      <td>...</td>\n      <td>...</td>\n      <td>...</td>\n      <td>...</td>\n      <td>...</td>\n      <td>...</td>\n      <td>...</td>\n    </tr>\n    <tr>\n      <th>1723</th>\n      <td>low</td>\n      <td>low</td>\n      <td>5more</td>\n      <td>more</td>\n      <td>med</td>\n      <td>med</td>\n      <td>good</td>\n    </tr>\n    <tr>\n      <th>1724</th>\n      <td>low</td>\n      <td>low</td>\n      <td>5more</td>\n      <td>more</td>\n      <td>med</td>\n      <td>high</td>\n      <td>vgood</td>\n    </tr>\n    <tr>\n      <th>1725</th>\n      <td>low</td>\n      <td>low</td>\n      <td>5more</td>\n      <td>more</td>\n      <td>big</td>\n      <td>low</td>\n      <td>unacc</td>\n    </tr>\n    <tr>\n      <th>1726</th>\n      <td>low</td>\n      <td>low</td>\n      <td>5more</td>\n      <td>more</td>\n      <td>big</td>\n      <td>med</td>\n      <td>good</td>\n    </tr>\n    <tr>\n      <th>1727</th>\n      <td>low</td>\n      <td>low</td>\n      <td>5more</td>\n      <td>more</td>\n      <td>big</td>\n      <td>high</td>\n      <td>vgood</td>\n    </tr>\n  </tbody>\n</table>\n<p>1728 rows × 7 columns</p>\n</div>"
     },
     "execution_count": 2,
     "metadata": {},
     "output_type": "execute_result"
    }
   ],
   "source": [
    "data = pd.read_csv(r'../data/car-evaluation.csv', sep = ',')\n",
    "data"
   ],
   "metadata": {
    "collapsed": false,
    "pycharm": {
     "name": "#%%\n"
    }
   }
  },
  {
   "cell_type": "code",
   "execution_count": 3,
   "outputs": [
    {
     "name": "stdout",
     "output_type": "stream",
     "text": [
      "<class 'pandas.core.frame.DataFrame'>\n",
      "RangeIndex: 1728 entries, 0 to 1727\n",
      "Data columns (total 7 columns):\n",
      " #   Column    Non-Null Count  Dtype \n",
      "---  ------    --------------  ----- \n",
      " 0   buying    1728 non-null   object\n",
      " 1   maint     1728 non-null   object\n",
      " 2   doors     1728 non-null   object\n",
      " 3   persons   1728 non-null   object\n",
      " 4   lug_boot  1728 non-null   object\n",
      " 5   safety    1728 non-null   object\n",
      " 6   class     1728 non-null   object\n",
      "dtypes: object(7)\n",
      "memory usage: 94.6+ KB\n",
      "Признак: buying, значения: {'vhigh', 'low', 'med', 'high'}\n",
      "Признак: maint, значения: {'vhigh', 'low', 'med', 'high'}\n",
      "Признак: doors, значения: {'3', '4', '2', '5more'}\n",
      "Признак: persons, значения: {'4', '2', 'more'}\n",
      "Признак: lug_boot, значения: {'small', 'big', 'med'}\n",
      "Признак: safety, значения: {'low', 'med', 'high'}\n",
      "Признак: class, значения: {'unacc', 'vgood', 'acc', 'good'}\n"
     ]
    }
   ],
   "source": [
    "data.info()\n",
    "cols = data.columns\n",
    "for col in cols:\n",
    "    print(f\"Признак: {col}, значения: {set(data[col].tolist())}\")"
   ],
   "metadata": {
    "collapsed": false,
    "pycharm": {
     "name": "#%%\n"
    }
   }
  },
  {
   "cell_type": "markdown",
   "source": [
    "##### Перекодирование"
   ],
   "metadata": {
    "collapsed": false
   }
  },
  {
   "cell_type": "code",
   "execution_count": 4,
   "outputs": [],
   "source": [
    "data = pd.get_dummies(data)"
   ],
   "metadata": {
    "collapsed": false,
    "pycharm": {
     "name": "#%%\n"
    }
   }
  },
  {
   "cell_type": "code",
   "execution_count": 5,
   "outputs": [
    {
     "name": "stdout",
     "output_type": "stream",
     "text": [
      "<class 'pandas.core.frame.DataFrame'>\n",
      "RangeIndex: 1728 entries, 0 to 1727\n",
      "Data columns (total 25 columns):\n",
      " #   Column          Non-Null Count  Dtype\n",
      "---  ------          --------------  -----\n",
      " 0   buying_high     1728 non-null   uint8\n",
      " 1   buying_low      1728 non-null   uint8\n",
      " 2   buying_med      1728 non-null   uint8\n",
      " 3   buying_vhigh    1728 non-null   uint8\n",
      " 4   maint_high      1728 non-null   uint8\n",
      " 5   maint_low       1728 non-null   uint8\n",
      " 6   maint_med       1728 non-null   uint8\n",
      " 7   maint_vhigh     1728 non-null   uint8\n",
      " 8   doors_2         1728 non-null   uint8\n",
      " 9   doors_3         1728 non-null   uint8\n",
      " 10  doors_4         1728 non-null   uint8\n",
      " 11  doors_5more     1728 non-null   uint8\n",
      " 12  persons_2       1728 non-null   uint8\n",
      " 13  persons_4       1728 non-null   uint8\n",
      " 14  persons_more    1728 non-null   uint8\n",
      " 15  lug_boot_big    1728 non-null   uint8\n",
      " 16  lug_boot_med    1728 non-null   uint8\n",
      " 17  lug_boot_small  1728 non-null   uint8\n",
      " 18  safety_high     1728 non-null   uint8\n",
      " 19  safety_low      1728 non-null   uint8\n",
      " 20  safety_med      1728 non-null   uint8\n",
      " 21  class_acc       1728 non-null   uint8\n",
      " 22  class_good      1728 non-null   uint8\n",
      " 23  class_unacc     1728 non-null   uint8\n",
      " 24  class_vgood     1728 non-null   uint8\n",
      "dtypes: uint8(25)\n",
      "memory usage: 42.3 KB\n"
     ]
    },
    {
     "data": {
      "text/plain": "      buying_high  buying_low  buying_med  buying_vhigh  maint_high  \\\n0               0           0           0             1           0   \n1               0           0           0             1           0   \n2               0           0           0             1           0   \n3               0           0           0             1           0   \n4               0           0           0             1           0   \n...           ...         ...         ...           ...         ...   \n1723            0           1           0             0           0   \n1724            0           1           0             0           0   \n1725            0           1           0             0           0   \n1726            0           1           0             0           0   \n1727            0           1           0             0           0   \n\n      maint_low  maint_med  maint_vhigh  doors_2  doors_3  ...  lug_boot_big  \\\n0             0          0            1        1        0  ...             0   \n1             0          0            1        1        0  ...             0   \n2             0          0            1        1        0  ...             0   \n3             0          0            1        1        0  ...             0   \n4             0          0            1        1        0  ...             0   \n...         ...        ...          ...      ...      ...  ...           ...   \n1723          1          0            0        0        0  ...             0   \n1724          1          0            0        0        0  ...             0   \n1725          1          0            0        0        0  ...             1   \n1726          1          0            0        0        0  ...             1   \n1727          1          0            0        0        0  ...             1   \n\n      lug_boot_med  lug_boot_small  safety_high  safety_low  safety_med  \\\n0                0               1            0           1           0   \n1                0               1            0           0           1   \n2                0               1            1           0           0   \n3                1               0            0           1           0   \n4                1               0            0           0           1   \n...            ...             ...          ...         ...         ...   \n1723             1               0            0           0           1   \n1724             1               0            1           0           0   \n1725             0               0            0           1           0   \n1726             0               0            0           0           1   \n1727             0               0            1           0           0   \n\n      class_acc  class_good  class_unacc  class_vgood  \n0             0           0            1            0  \n1             0           0            1            0  \n2             0           0            1            0  \n3             0           0            1            0  \n4             0           0            1            0  \n...         ...         ...          ...          ...  \n1723          0           1            0            0  \n1724          0           0            0            1  \n1725          0           0            1            0  \n1726          0           1            0            0  \n1727          0           0            0            1  \n\n[1728 rows x 25 columns]",
      "text/html": "<div>\n<style scoped>\n    .dataframe tbody tr th:only-of-type {\n        vertical-align: middle;\n    }\n\n    .dataframe tbody tr th {\n        vertical-align: top;\n    }\n\n    .dataframe thead th {\n        text-align: right;\n    }\n</style>\n<table border=\"1\" class=\"dataframe\">\n  <thead>\n    <tr style=\"text-align: right;\">\n      <th></th>\n      <th>buying_high</th>\n      <th>buying_low</th>\n      <th>buying_med</th>\n      <th>buying_vhigh</th>\n      <th>maint_high</th>\n      <th>maint_low</th>\n      <th>maint_med</th>\n      <th>maint_vhigh</th>\n      <th>doors_2</th>\n      <th>doors_3</th>\n      <th>...</th>\n      <th>lug_boot_big</th>\n      <th>lug_boot_med</th>\n      <th>lug_boot_small</th>\n      <th>safety_high</th>\n      <th>safety_low</th>\n      <th>safety_med</th>\n      <th>class_acc</th>\n      <th>class_good</th>\n      <th>class_unacc</th>\n      <th>class_vgood</th>\n    </tr>\n  </thead>\n  <tbody>\n    <tr>\n      <th>0</th>\n      <td>0</td>\n      <td>0</td>\n      <td>0</td>\n      <td>1</td>\n      <td>0</td>\n      <td>0</td>\n      <td>0</td>\n      <td>1</td>\n      <td>1</td>\n      <td>0</td>\n      <td>...</td>\n      <td>0</td>\n      <td>0</td>\n      <td>1</td>\n      <td>0</td>\n      <td>1</td>\n      <td>0</td>\n      <td>0</td>\n      <td>0</td>\n      <td>1</td>\n      <td>0</td>\n    </tr>\n    <tr>\n      <th>1</th>\n      <td>0</td>\n      <td>0</td>\n      <td>0</td>\n      <td>1</td>\n      <td>0</td>\n      <td>0</td>\n      <td>0</td>\n      <td>1</td>\n      <td>1</td>\n      <td>0</td>\n      <td>...</td>\n      <td>0</td>\n      <td>0</td>\n      <td>1</td>\n      <td>0</td>\n      <td>0</td>\n      <td>1</td>\n      <td>0</td>\n      <td>0</td>\n      <td>1</td>\n      <td>0</td>\n    </tr>\n    <tr>\n      <th>2</th>\n      <td>0</td>\n      <td>0</td>\n      <td>0</td>\n      <td>1</td>\n      <td>0</td>\n      <td>0</td>\n      <td>0</td>\n      <td>1</td>\n      <td>1</td>\n      <td>0</td>\n      <td>...</td>\n      <td>0</td>\n      <td>0</td>\n      <td>1</td>\n      <td>1</td>\n      <td>0</td>\n      <td>0</td>\n      <td>0</td>\n      <td>0</td>\n      <td>1</td>\n      <td>0</td>\n    </tr>\n    <tr>\n      <th>3</th>\n      <td>0</td>\n      <td>0</td>\n      <td>0</td>\n      <td>1</td>\n      <td>0</td>\n      <td>0</td>\n      <td>0</td>\n      <td>1</td>\n      <td>1</td>\n      <td>0</td>\n      <td>...</td>\n      <td>0</td>\n      <td>1</td>\n      <td>0</td>\n      <td>0</td>\n      <td>1</td>\n      <td>0</td>\n      <td>0</td>\n      <td>0</td>\n      <td>1</td>\n      <td>0</td>\n    </tr>\n    <tr>\n      <th>4</th>\n      <td>0</td>\n      <td>0</td>\n      <td>0</td>\n      <td>1</td>\n      <td>0</td>\n      <td>0</td>\n      <td>0</td>\n      <td>1</td>\n      <td>1</td>\n      <td>0</td>\n      <td>...</td>\n      <td>0</td>\n      <td>1</td>\n      <td>0</td>\n      <td>0</td>\n      <td>0</td>\n      <td>1</td>\n      <td>0</td>\n      <td>0</td>\n      <td>1</td>\n      <td>0</td>\n    </tr>\n    <tr>\n      <th>...</th>\n      <td>...</td>\n      <td>...</td>\n      <td>...</td>\n      <td>...</td>\n      <td>...</td>\n      <td>...</td>\n      <td>...</td>\n      <td>...</td>\n      <td>...</td>\n      <td>...</td>\n      <td>...</td>\n      <td>...</td>\n      <td>...</td>\n      <td>...</td>\n      <td>...</td>\n      <td>...</td>\n      <td>...</td>\n      <td>...</td>\n      <td>...</td>\n      <td>...</td>\n      <td>...</td>\n    </tr>\n    <tr>\n      <th>1723</th>\n      <td>0</td>\n      <td>1</td>\n      <td>0</td>\n      <td>0</td>\n      <td>0</td>\n      <td>1</td>\n      <td>0</td>\n      <td>0</td>\n      <td>0</td>\n      <td>0</td>\n      <td>...</td>\n      <td>0</td>\n      <td>1</td>\n      <td>0</td>\n      <td>0</td>\n      <td>0</td>\n      <td>1</td>\n      <td>0</td>\n      <td>1</td>\n      <td>0</td>\n      <td>0</td>\n    </tr>\n    <tr>\n      <th>1724</th>\n      <td>0</td>\n      <td>1</td>\n      <td>0</td>\n      <td>0</td>\n      <td>0</td>\n      <td>1</td>\n      <td>0</td>\n      <td>0</td>\n      <td>0</td>\n      <td>0</td>\n      <td>...</td>\n      <td>0</td>\n      <td>1</td>\n      <td>0</td>\n      <td>1</td>\n      <td>0</td>\n      <td>0</td>\n      <td>0</td>\n      <td>0</td>\n      <td>0</td>\n      <td>1</td>\n    </tr>\n    <tr>\n      <th>1725</th>\n      <td>0</td>\n      <td>1</td>\n      <td>0</td>\n      <td>0</td>\n      <td>0</td>\n      <td>1</td>\n      <td>0</td>\n      <td>0</td>\n      <td>0</td>\n      <td>0</td>\n      <td>...</td>\n      <td>1</td>\n      <td>0</td>\n      <td>0</td>\n      <td>0</td>\n      <td>1</td>\n      <td>0</td>\n      <td>0</td>\n      <td>0</td>\n      <td>1</td>\n      <td>0</td>\n    </tr>\n    <tr>\n      <th>1726</th>\n      <td>0</td>\n      <td>1</td>\n      <td>0</td>\n      <td>0</td>\n      <td>0</td>\n      <td>1</td>\n      <td>0</td>\n      <td>0</td>\n      <td>0</td>\n      <td>0</td>\n      <td>...</td>\n      <td>1</td>\n      <td>0</td>\n      <td>0</td>\n      <td>0</td>\n      <td>0</td>\n      <td>1</td>\n      <td>0</td>\n      <td>1</td>\n      <td>0</td>\n      <td>0</td>\n    </tr>\n    <tr>\n      <th>1727</th>\n      <td>0</td>\n      <td>1</td>\n      <td>0</td>\n      <td>0</td>\n      <td>0</td>\n      <td>1</td>\n      <td>0</td>\n      <td>0</td>\n      <td>0</td>\n      <td>0</td>\n      <td>...</td>\n      <td>1</td>\n      <td>0</td>\n      <td>0</td>\n      <td>1</td>\n      <td>0</td>\n      <td>0</td>\n      <td>0</td>\n      <td>0</td>\n      <td>0</td>\n      <td>1</td>\n    </tr>\n  </tbody>\n</table>\n<p>1728 rows × 25 columns</p>\n</div>"
     },
     "execution_count": 5,
     "metadata": {},
     "output_type": "execute_result"
    }
   ],
   "source": [
    "data.info()\n",
    "data"
   ],
   "metadata": {
    "collapsed": false,
    "pycharm": {
     "name": "#%%\n"
    }
   }
  },
  {
   "cell_type": "markdown",
   "source": [
    "##### Сохранение изменённого датасета"
   ],
   "metadata": {
    "collapsed": false
   }
  },
  {
   "cell_type": "code",
   "execution_count": 6,
   "outputs": [],
   "source": [
    "data.to_csv(r'../data/car-evaluation_preprocessed.csv', index_label=False, index=False)"
   ],
   "metadata": {
    "collapsed": false,
    "pycharm": {
     "name": "#%%\n"
    }
   }
  }
 ],
 "metadata": {
  "kernelspec": {
   "display_name": "Python 3",
   "language": "python",
   "name": "python3"
  },
  "language_info": {
   "codemirror_mode": {
    "name": "ipython",
    "version": 2
   },
   "file_extension": ".py",
   "mimetype": "text/x-python",
   "name": "python",
   "nbconvert_exporter": "python",
   "pygments_lexer": "ipython2",
   "version": "2.7.6"
  }
 },
 "nbformat": 4,
 "nbformat_minor": 0
}